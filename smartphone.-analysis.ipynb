{
 "cells": [
  {
   "cell_type": "code",
   "execution_count": 18,
   "id": "e6019dcd",
   "metadata": {},
   "outputs": [],
   "source": [
    "# Smart phone data analysis "
   ]
  },
  {
   "cell_type": "code",
   "execution_count": 19,
   "id": "9b94ec52",
   "metadata": {},
   "outputs": [],
   "source": [
    "import numpy as np\n",
    "import pandas as pd\n"
   ]
  },
  {
   "cell_type": "markdown",
   "id": "c825d682",
   "metadata": {},
   "source": [
    "### Data Loading and Cleaning "
   ]
  },
  {
   "cell_type": "code",
   "execution_count": 20,
   "id": "d51ac232",
   "metadata": {},
   "outputs": [
    {
     "data": {
      "text/html": [
       "<div>\n",
       "<style scoped>\n",
       "    .dataframe tbody tr th:only-of-type {\n",
       "        vertical-align: middle;\n",
       "    }\n",
       "\n",
       "    .dataframe tbody tr th {\n",
       "        vertical-align: top;\n",
       "    }\n",
       "\n",
       "    .dataframe thead th {\n",
       "        text-align: right;\n",
       "    }\n",
       "</style>\n",
       "<table border=\"1\" class=\"dataframe\">\n",
       "  <thead>\n",
       "    <tr style=\"text-align: right;\">\n",
       "      <th></th>\n",
       "      <th>model</th>\n",
       "      <th>price</th>\n",
       "      <th>rating</th>\n",
       "      <th>sim</th>\n",
       "      <th>processor</th>\n",
       "      <th>ram</th>\n",
       "      <th>battery</th>\n",
       "      <th>display</th>\n",
       "      <th>camera</th>\n",
       "      <th>card</th>\n",
       "      <th>os</th>\n",
       "    </tr>\n",
       "  </thead>\n",
       "  <tbody>\n",
       "    <tr>\n",
       "      <th>0</th>\n",
       "      <td>OnePlus 11 5G</td>\n",
       "      <td>₹54,999</td>\n",
       "      <td>89.0</td>\n",
       "      <td>Dual Sim, 3G, 4G, 5G, VoLTE, Wi-Fi, NFC</td>\n",
       "      <td>Snapdragon 8 Gen2, Octa Core, 3.2 GHz Processor</td>\n",
       "      <td>12 GB RAM, 256 GB inbuilt</td>\n",
       "      <td>5000 mAh Battery with 100W Fast Charging</td>\n",
       "      <td>6.7 inches, 1440 x 3216 px, 120 Hz Display wit...</td>\n",
       "      <td>50 MP + 48 MP + 32 MP Triple Rear &amp; 16 MP Fron...</td>\n",
       "      <td>Memory Card Not Supported</td>\n",
       "      <td>Android v13</td>\n",
       "    </tr>\n",
       "    <tr>\n",
       "      <th>1</th>\n",
       "      <td>OnePlus Nord CE 2 Lite 5G</td>\n",
       "      <td>₹19,989</td>\n",
       "      <td>81.0</td>\n",
       "      <td>Dual Sim, 3G, 4G, 5G, VoLTE, Wi-Fi</td>\n",
       "      <td>Snapdragon 695, Octa Core, 2.2 GHz Processor</td>\n",
       "      <td>6 GB RAM, 128 GB inbuilt</td>\n",
       "      <td>5000 mAh Battery with 33W Fast Charging</td>\n",
       "      <td>6.59 inches, 1080 x 2412 px, 120 Hz Display wi...</td>\n",
       "      <td>64 MP + 2 MP + 2 MP Triple Rear &amp; 16 MP Front ...</td>\n",
       "      <td>Memory Card (Hybrid), upto 1 TB</td>\n",
       "      <td>Android v12</td>\n",
       "    </tr>\n",
       "    <tr>\n",
       "      <th>2</th>\n",
       "      <td>Samsung Galaxy A14 5G</td>\n",
       "      <td>₹16,499</td>\n",
       "      <td>75.0</td>\n",
       "      <td>Dual Sim, 3G, 4G, 5G, VoLTE, Wi-Fi</td>\n",
       "      <td>Exynos 1330, Octa Core, 2.4 GHz Processor</td>\n",
       "      <td>4 GB RAM, 64 GB inbuilt</td>\n",
       "      <td>5000 mAh Battery with 15W Fast Charging</td>\n",
       "      <td>6.6 inches, 1080 x 2408 px, 90 Hz Display with...</td>\n",
       "      <td>50 MP + 2 MP + 2 MP Triple Rear &amp; 13 MP Front ...</td>\n",
       "      <td>Memory Card Supported, upto 1 TB</td>\n",
       "      <td>Android v13</td>\n",
       "    </tr>\n",
       "    <tr>\n",
       "      <th>3</th>\n",
       "      <td>Motorola Moto G62 5G</td>\n",
       "      <td>₹14,999</td>\n",
       "      <td>81.0</td>\n",
       "      <td>Dual Sim, 3G, 4G, 5G, VoLTE, Wi-Fi</td>\n",
       "      <td>Snapdragon  695, Octa Core, 2.2 GHz Processor</td>\n",
       "      <td>6 GB RAM, 128 GB inbuilt</td>\n",
       "      <td>5000 mAh Battery with Fast Charging</td>\n",
       "      <td>6.55 inches, 1080 x 2400 px, 120 Hz Display wi...</td>\n",
       "      <td>50 MP + 8 MP + 2 MP Triple Rear &amp; 16 MP Front ...</td>\n",
       "      <td>Memory Card (Hybrid), upto 1 TB</td>\n",
       "      <td>Android v12</td>\n",
       "    </tr>\n",
       "    <tr>\n",
       "      <th>4</th>\n",
       "      <td>Realme 10 Pro Plus</td>\n",
       "      <td>₹24,999</td>\n",
       "      <td>82.0</td>\n",
       "      <td>Dual Sim, 3G, 4G, 5G, VoLTE, Wi-Fi</td>\n",
       "      <td>Dimensity 1080, Octa Core, 2.6 GHz Processor</td>\n",
       "      <td>6 GB RAM, 128 GB inbuilt</td>\n",
       "      <td>5000 mAh Battery with 67W Fast Charging</td>\n",
       "      <td>6.7 inches, 1080 x 2412 px, 120 Hz Display wit...</td>\n",
       "      <td>108 MP + 8 MP + 2 MP Triple Rear &amp; 16 MP Front...</td>\n",
       "      <td>Memory Card Not Supported</td>\n",
       "      <td>Android v13</td>\n",
       "    </tr>\n",
       "  </tbody>\n",
       "</table>\n",
       "</div>"
      ],
      "text/plain": [
       "                       model    price  rating  \\\n",
       "0              OnePlus 11 5G  ₹54,999    89.0   \n",
       "1  OnePlus Nord CE 2 Lite 5G  ₹19,989    81.0   \n",
       "2      Samsung Galaxy A14 5G  ₹16,499    75.0   \n",
       "3       Motorola Moto G62 5G  ₹14,999    81.0   \n",
       "4         Realme 10 Pro Plus  ₹24,999    82.0   \n",
       "\n",
       "                                       sim  \\\n",
       "0  Dual Sim, 3G, 4G, 5G, VoLTE, Wi-Fi, NFC   \n",
       "1       Dual Sim, 3G, 4G, 5G, VoLTE, Wi-Fi   \n",
       "2       Dual Sim, 3G, 4G, 5G, VoLTE, Wi-Fi   \n",
       "3       Dual Sim, 3G, 4G, 5G, VoLTE, Wi-Fi   \n",
       "4       Dual Sim, 3G, 4G, 5G, VoLTE, Wi-Fi   \n",
       "\n",
       "                                         processor                        ram  \\\n",
       "0  Snapdragon 8 Gen2, Octa Core, 3.2 GHz Processor  12 GB RAM, 256 GB inbuilt   \n",
       "1     Snapdragon 695, Octa Core, 2.2 GHz Processor   6 GB RAM, 128 GB inbuilt   \n",
       "2        Exynos 1330, Octa Core, 2.4 GHz Processor    4 GB RAM, 64 GB inbuilt   \n",
       "3    Snapdragon  695, Octa Core, 2.2 GHz Processor   6 GB RAM, 128 GB inbuilt   \n",
       "4     Dimensity 1080, Octa Core, 2.6 GHz Processor   6 GB RAM, 128 GB inbuilt   \n",
       "\n",
       "                                    battery  \\\n",
       "0  5000 mAh Battery with 100W Fast Charging   \n",
       "1   5000 mAh Battery with 33W Fast Charging   \n",
       "2   5000 mAh Battery with 15W Fast Charging   \n",
       "3       5000 mAh Battery with Fast Charging   \n",
       "4   5000 mAh Battery with 67W Fast Charging   \n",
       "\n",
       "                                             display  \\\n",
       "0  6.7 inches, 1440 x 3216 px, 120 Hz Display wit...   \n",
       "1  6.59 inches, 1080 x 2412 px, 120 Hz Display wi...   \n",
       "2  6.6 inches, 1080 x 2408 px, 90 Hz Display with...   \n",
       "3  6.55 inches, 1080 x 2400 px, 120 Hz Display wi...   \n",
       "4  6.7 inches, 1080 x 2412 px, 120 Hz Display wit...   \n",
       "\n",
       "                                              camera  \\\n",
       "0  50 MP + 48 MP + 32 MP Triple Rear & 16 MP Fron...   \n",
       "1  64 MP + 2 MP + 2 MP Triple Rear & 16 MP Front ...   \n",
       "2  50 MP + 2 MP + 2 MP Triple Rear & 13 MP Front ...   \n",
       "3  50 MP + 8 MP + 2 MP Triple Rear & 16 MP Front ...   \n",
       "4  108 MP + 8 MP + 2 MP Triple Rear & 16 MP Front...   \n",
       "\n",
       "                               card           os  \n",
       "0         Memory Card Not Supported  Android v13  \n",
       "1   Memory Card (Hybrid), upto 1 TB  Android v12  \n",
       "2  Memory Card Supported, upto 1 TB  Android v13  \n",
       "3   Memory Card (Hybrid), upto 1 TB  Android v12  \n",
       "4         Memory Card Not Supported  Android v13  "
      ]
     },
     "execution_count": 20,
     "metadata": {},
     "output_type": "execute_result"
    }
   ],
   "source": [
    "df = pd.read_csv('smartphones-dataset.csv')\n",
    "df.head()"
   ]
  },
  {
   "cell_type": "code",
   "execution_count": 21,
   "id": "dc9ff4b4",
   "metadata": {},
   "outputs": [
    {
     "name": "stdout",
     "output_type": "stream",
     "text": [
      "<class 'pandas.core.frame.DataFrame'>\n",
      "RangeIndex: 1020 entries, 0 to 1019\n",
      "Data columns (total 11 columns):\n",
      " #   Column     Non-Null Count  Dtype  \n",
      "---  ------     --------------  -----  \n",
      " 0   model      1020 non-null   object \n",
      " 1   price      1020 non-null   object \n",
      " 2   rating     879 non-null    float64\n",
      " 3   sim        1020 non-null   object \n",
      " 4   processor  1020 non-null   object \n",
      " 5   ram        1020 non-null   object \n",
      " 6   battery    1020 non-null   object \n",
      " 7   display    1020 non-null   object \n",
      " 8   camera     1019 non-null   object \n",
      " 9   card       1013 non-null   object \n",
      " 10  os         1003 non-null   object \n",
      "dtypes: float64(1), object(10)\n",
      "memory usage: 87.8+ KB\n"
     ]
    }
   ],
   "source": [
    "# info()\n",
    "df.info()"
   ]
  },
  {
   "cell_type": "code",
   "execution_count": 22,
   "id": "304a5fc4",
   "metadata": {},
   "outputs": [
    {
     "data": {
      "text/html": [
       "<div>\n",
       "<style scoped>\n",
       "    .dataframe tbody tr th:only-of-type {\n",
       "        vertical-align: middle;\n",
       "    }\n",
       "\n",
       "    .dataframe tbody tr th {\n",
       "        vertical-align: top;\n",
       "    }\n",
       "\n",
       "    .dataframe thead th {\n",
       "        text-align: right;\n",
       "    }\n",
       "</style>\n",
       "<table border=\"1\" class=\"dataframe\">\n",
       "  <thead>\n",
       "    <tr style=\"text-align: right;\">\n",
       "      <th></th>\n",
       "      <th>rating</th>\n",
       "    </tr>\n",
       "  </thead>\n",
       "  <tbody>\n",
       "    <tr>\n",
       "      <th>count</th>\n",
       "      <td>879.000000</td>\n",
       "    </tr>\n",
       "    <tr>\n",
       "      <th>mean</th>\n",
       "      <td>78.258248</td>\n",
       "    </tr>\n",
       "    <tr>\n",
       "      <th>std</th>\n",
       "      <td>7.402854</td>\n",
       "    </tr>\n",
       "    <tr>\n",
       "      <th>min</th>\n",
       "      <td>60.000000</td>\n",
       "    </tr>\n",
       "    <tr>\n",
       "      <th>25%</th>\n",
       "      <td>74.000000</td>\n",
       "    </tr>\n",
       "    <tr>\n",
       "      <th>50%</th>\n",
       "      <td>80.000000</td>\n",
       "    </tr>\n",
       "    <tr>\n",
       "      <th>75%</th>\n",
       "      <td>84.000000</td>\n",
       "    </tr>\n",
       "    <tr>\n",
       "      <th>max</th>\n",
       "      <td>89.000000</td>\n",
       "    </tr>\n",
       "  </tbody>\n",
       "</table>\n",
       "</div>"
      ],
      "text/plain": [
       "           rating\n",
       "count  879.000000\n",
       "mean    78.258248\n",
       "std      7.402854\n",
       "min     60.000000\n",
       "25%     74.000000\n",
       "50%     80.000000\n",
       "75%     84.000000\n",
       "max     89.000000"
      ]
     },
     "execution_count": 22,
     "metadata": {},
     "output_type": "execute_result"
    }
   ],
   "source": [
    "#describe\n",
    "df.describe()"
   ]
  },
  {
   "cell_type": "code",
   "execution_count": 23,
   "id": "7e4bcf86",
   "metadata": {},
   "outputs": [
    {
     "data": {
      "text/plain": [
       "np.int64(0)"
      ]
     },
     "execution_count": 23,
     "metadata": {},
     "output_type": "execute_result"
    }
   ],
   "source": [
    "#duplicated data \n",
    "df.duplicated().sum()"
   ]
  },
  {
   "cell_type": "code",
   "execution_count": 27,
   "id": "3cb0a0a7",
   "metadata": {},
   "outputs": [
    {
     "data": {
      "text/plain": [
       "['model',\n",
       " 'price',\n",
       " 'rating',\n",
       " 'sim',\n",
       " 'processor',\n",
       " 'ram',\n",
       " 'battery',\n",
       " 'display',\n",
       " 'camera',\n",
       " 'card',\n",
       " 'os']"
      ]
     },
     "execution_count": 27,
     "metadata": {},
     "output_type": "execute_result"
    }
   ],
   "source": [
    "# list all column\n",
    "df.columns.tolist()"
   ]
  },
  {
   "cell_type": "code",
   "execution_count": 30,
   "id": "d64e982b",
   "metadata": {},
   "outputs": [
    {
     "data": {
      "text/plain": [
       "1020"
      ]
     },
     "execution_count": 30,
     "metadata": {},
     "output_type": "execute_result"
    }
   ],
   "source": [
    "# len of \n",
    "len(df)"
   ]
  },
  {
   "cell_type": "code",
   "execution_count": 25,
   "id": "4b5b1fcf",
   "metadata": {},
   "outputs": [
    {
     "data": {
      "text/plain": [
       "model          0\n",
       "price          0\n",
       "rating       141\n",
       "sim            0\n",
       "processor      0\n",
       "ram            0\n",
       "battery        0\n",
       "display        0\n",
       "camera         1\n",
       "card           7\n",
       "os            17\n",
       "dtype: int64"
      ]
     },
     "execution_count": 25,
     "metadata": {},
     "output_type": "execute_result"
    }
   ],
   "source": [
    "# count missing values in each column \n",
    "df.isna().sum()\n",
    "\n",
    "# rating column has maximum missing data "
   ]
  },
  {
   "cell_type": "code",
   "execution_count": 35,
   "id": "2de2b216",
   "metadata": {},
   "outputs": [
    {
     "data": {
      "text/html": [
       "<div>\n",
       "<style scoped>\n",
       "    .dataframe tbody tr th:only-of-type {\n",
       "        vertical-align: middle;\n",
       "    }\n",
       "\n",
       "    .dataframe tbody tr th {\n",
       "        vertical-align: top;\n",
       "    }\n",
       "\n",
       "    .dataframe thead th {\n",
       "        text-align: right;\n",
       "    }\n",
       "</style>\n",
       "<table border=\"1\" class=\"dataframe\">\n",
       "  <thead>\n",
       "    <tr style=\"text-align: right;\">\n",
       "      <th></th>\n",
       "      <th>model</th>\n",
       "      <th>price</th>\n",
       "      <th>rating</th>\n",
       "      <th>sim</th>\n",
       "      <th>processor</th>\n",
       "      <th>ram</th>\n",
       "      <th>battery</th>\n",
       "      <th>display</th>\n",
       "      <th>camera</th>\n",
       "      <th>card</th>\n",
       "      <th>os</th>\n",
       "    </tr>\n",
       "  </thead>\n",
       "  <tbody>\n",
       "    <tr>\n",
       "      <th>0</th>\n",
       "      <td>OnePlus 11 5G</td>\n",
       "      <td>₹54,999</td>\n",
       "      <td>89.0</td>\n",
       "      <td>Dual Sim, 3G, 4G, 5G, VoLTE, Wi-Fi, NFC</td>\n",
       "      <td>Snapdragon 8 Gen2, Octa Core, 3.2 GHz Processor</td>\n",
       "      <td>12 GB RAM, 256 GB inbuilt</td>\n",
       "      <td>5000 mAh Battery with 100W Fast Charging</td>\n",
       "      <td>6.7 inches, 1440 x 3216 px, 120 Hz Display wit...</td>\n",
       "      <td>50 MP + 48 MP + 32 MP Triple Rear &amp; 16 MP Fron...</td>\n",
       "      <td>Memory Card Not Supported</td>\n",
       "      <td>Android v13</td>\n",
       "    </tr>\n",
       "    <tr>\n",
       "      <th>1</th>\n",
       "      <td>OnePlus Nord CE 2 Lite 5G</td>\n",
       "      <td>₹19,989</td>\n",
       "      <td>81.0</td>\n",
       "      <td>Dual Sim, 3G, 4G, 5G, VoLTE, Wi-Fi</td>\n",
       "      <td>Snapdragon 695, Octa Core, 2.2 GHz Processor</td>\n",
       "      <td>6 GB RAM, 128 GB inbuilt</td>\n",
       "      <td>5000 mAh Battery with 33W Fast Charging</td>\n",
       "      <td>6.59 inches, 1080 x 2412 px, 120 Hz Display wi...</td>\n",
       "      <td>64 MP + 2 MP + 2 MP Triple Rear &amp; 16 MP Front ...</td>\n",
       "      <td>Memory Card (Hybrid), upto 1 TB</td>\n",
       "      <td>Android v12</td>\n",
       "    </tr>\n",
       "    <tr>\n",
       "      <th>2</th>\n",
       "      <td>Samsung Galaxy A14 5G</td>\n",
       "      <td>₹16,499</td>\n",
       "      <td>75.0</td>\n",
       "      <td>Dual Sim, 3G, 4G, 5G, VoLTE, Wi-Fi</td>\n",
       "      <td>Exynos 1330, Octa Core, 2.4 GHz Processor</td>\n",
       "      <td>4 GB RAM, 64 GB inbuilt</td>\n",
       "      <td>5000 mAh Battery with 15W Fast Charging</td>\n",
       "      <td>6.6 inches, 1080 x 2408 px, 90 Hz Display with...</td>\n",
       "      <td>50 MP + 2 MP + 2 MP Triple Rear &amp; 13 MP Front ...</td>\n",
       "      <td>Memory Card Supported, upto 1 TB</td>\n",
       "      <td>Android v13</td>\n",
       "    </tr>\n",
       "    <tr>\n",
       "      <th>3</th>\n",
       "      <td>Motorola Moto G62 5G</td>\n",
       "      <td>₹14,999</td>\n",
       "      <td>81.0</td>\n",
       "      <td>Dual Sim, 3G, 4G, 5G, VoLTE, Wi-Fi</td>\n",
       "      <td>Snapdragon  695, Octa Core, 2.2 GHz Processor</td>\n",
       "      <td>6 GB RAM, 128 GB inbuilt</td>\n",
       "      <td>5000 mAh Battery with Fast Charging</td>\n",
       "      <td>6.55 inches, 1080 x 2400 px, 120 Hz Display wi...</td>\n",
       "      <td>50 MP + 8 MP + 2 MP Triple Rear &amp; 16 MP Front ...</td>\n",
       "      <td>Memory Card (Hybrid), upto 1 TB</td>\n",
       "      <td>Android v12</td>\n",
       "    </tr>\n",
       "    <tr>\n",
       "      <th>4</th>\n",
       "      <td>Realme 10 Pro Plus</td>\n",
       "      <td>₹24,999</td>\n",
       "      <td>82.0</td>\n",
       "      <td>Dual Sim, 3G, 4G, 5G, VoLTE, Wi-Fi</td>\n",
       "      <td>Dimensity 1080, Octa Core, 2.6 GHz Processor</td>\n",
       "      <td>6 GB RAM, 128 GB inbuilt</td>\n",
       "      <td>5000 mAh Battery with 67W Fast Charging</td>\n",
       "      <td>6.7 inches, 1080 x 2412 px, 120 Hz Display wit...</td>\n",
       "      <td>108 MP + 8 MP + 2 MP Triple Rear &amp; 16 MP Front...</td>\n",
       "      <td>Memory Card Not Supported</td>\n",
       "      <td>Android v13</td>\n",
       "    </tr>\n",
       "    <tr>\n",
       "      <th>...</th>\n",
       "      <td>...</td>\n",
       "      <td>...</td>\n",
       "      <td>...</td>\n",
       "      <td>...</td>\n",
       "      <td>...</td>\n",
       "      <td>...</td>\n",
       "      <td>...</td>\n",
       "      <td>...</td>\n",
       "      <td>...</td>\n",
       "      <td>...</td>\n",
       "      <td>...</td>\n",
       "    </tr>\n",
       "    <tr>\n",
       "      <th>1015</th>\n",
       "      <td>Motorola Moto Edge S30 Pro</td>\n",
       "      <td>₹34,990</td>\n",
       "      <td>83.0</td>\n",
       "      <td>Dual Sim, 3G, 4G, 5G, VoLTE, Wi-Fi</td>\n",
       "      <td>Snapdragon 8 Gen1, Octa Core, 3 GHz Processor</td>\n",
       "      <td>8 GB RAM, 128 GB inbuilt</td>\n",
       "      <td>5000 mAh Battery with 68.2W Fast Charging</td>\n",
       "      <td>6.67 inches, 1080 x 2460 px, 120 Hz Display wi...</td>\n",
       "      <td>64 MP + 8 MP + 2 MP Triple Rear &amp; 16 MP Front ...</td>\n",
       "      <td>Android v12</td>\n",
       "      <td>No FM Radio</td>\n",
       "    </tr>\n",
       "    <tr>\n",
       "      <th>1016</th>\n",
       "      <td>Honor X8 5G</td>\n",
       "      <td>₹14,990</td>\n",
       "      <td>75.0</td>\n",
       "      <td>Dual Sim, 3G, 4G, 5G, VoLTE, Wi-Fi</td>\n",
       "      <td>Snapdragon  480+, Octa Core, 2.2 GHz Processor</td>\n",
       "      <td>6 GB RAM, 128 GB inbuilt</td>\n",
       "      <td>5000 mAh Battery with 22.5W Fast Charging</td>\n",
       "      <td>6.5 inches, 720 x 1600 px Display with Water D...</td>\n",
       "      <td>48 MP + 2 MP + Depth Sensor Triple Rear &amp; 8 MP...</td>\n",
       "      <td>Memory Card Supported, upto 1 TB</td>\n",
       "      <td>Android v11</td>\n",
       "    </tr>\n",
       "    <tr>\n",
       "      <th>1017</th>\n",
       "      <td>POCO X4 GT 5G (8GB RAM + 256GB)</td>\n",
       "      <td>₹28,990</td>\n",
       "      <td>85.0</td>\n",
       "      <td>Dual Sim, 3G, 4G, 5G, VoLTE, Wi-Fi, NFC, IR Bl...</td>\n",
       "      <td>Dimensity 8100, Octa Core, 2.85 GHz Processor</td>\n",
       "      <td>8 GB RAM, 256 GB inbuilt</td>\n",
       "      <td>5080 mAh Battery with 67W Fast Charging</td>\n",
       "      <td>6.6 inches, 1080 x 2460 px, 144 Hz Display wit...</td>\n",
       "      <td>64 MP + 8 MP + 2 MP Triple Rear &amp; 16 MP Front ...</td>\n",
       "      <td>Memory Card Not Supported</td>\n",
       "      <td>Android v12</td>\n",
       "    </tr>\n",
       "    <tr>\n",
       "      <th>1018</th>\n",
       "      <td>Motorola Moto G91 5G</td>\n",
       "      <td>₹19,990</td>\n",
       "      <td>80.0</td>\n",
       "      <td>Dual Sim, 3G, 4G, 5G, VoLTE, Wi-Fi, NFC</td>\n",
       "      <td>Snapdragon 695, Octa Core, 2.2 GHz Processor</td>\n",
       "      <td>6 GB RAM, 128 GB inbuilt</td>\n",
       "      <td>5000 mAh Battery with Fast Charging</td>\n",
       "      <td>6.8 inches, 1080 x 2400 px Display with Punch ...</td>\n",
       "      <td>108 MP + 8 MP + 2 MP Triple Rear &amp; 32 MP Front...</td>\n",
       "      <td>Memory Card Supported, upto 1 TB</td>\n",
       "      <td>Android v12</td>\n",
       "    </tr>\n",
       "    <tr>\n",
       "      <th>1019</th>\n",
       "      <td>Samsung Galaxy M52s 5G</td>\n",
       "      <td>₹24,990</td>\n",
       "      <td>74.0</td>\n",
       "      <td>Dual Sim, 3G, 4G, 5G, VoLTE, Wi-Fi</td>\n",
       "      <td>Octa Core Processor</td>\n",
       "      <td>8 GB RAM, 128 GB inbuilt</td>\n",
       "      <td>5000 mAh Battery with Fast Charging</td>\n",
       "      <td>6.5 inches, 1080 x 2400 px Display with Water ...</td>\n",
       "      <td>64 MP + 8 MP + 5 MP Triple Rear &amp; 32 MP Front ...</td>\n",
       "      <td>Memory Card Supported, upto 1 TB</td>\n",
       "      <td>Android v12</td>\n",
       "    </tr>\n",
       "  </tbody>\n",
       "</table>\n",
       "<p>1020 rows × 11 columns</p>\n",
       "</div>"
      ],
      "text/plain": [
       "                                model    price  rating  \\\n",
       "0                       OnePlus 11 5G  ₹54,999    89.0   \n",
       "1           OnePlus Nord CE 2 Lite 5G  ₹19,989    81.0   \n",
       "2               Samsung Galaxy A14 5G  ₹16,499    75.0   \n",
       "3                Motorola Moto G62 5G  ₹14,999    81.0   \n",
       "4                  Realme 10 Pro Plus  ₹24,999    82.0   \n",
       "...                               ...      ...     ...   \n",
       "1015       Motorola Moto Edge S30 Pro  ₹34,990    83.0   \n",
       "1016                      Honor X8 5G  ₹14,990    75.0   \n",
       "1017  POCO X4 GT 5G (8GB RAM + 256GB)  ₹28,990    85.0   \n",
       "1018             Motorola Moto G91 5G  ₹19,990    80.0   \n",
       "1019           Samsung Galaxy M52s 5G  ₹24,990    74.0   \n",
       "\n",
       "                                                    sim  \\\n",
       "0               Dual Sim, 3G, 4G, 5G, VoLTE, Wi-Fi, NFC   \n",
       "1                    Dual Sim, 3G, 4G, 5G, VoLTE, Wi-Fi   \n",
       "2                    Dual Sim, 3G, 4G, 5G, VoLTE, Wi-Fi   \n",
       "3                    Dual Sim, 3G, 4G, 5G, VoLTE, Wi-Fi   \n",
       "4                    Dual Sim, 3G, 4G, 5G, VoLTE, Wi-Fi   \n",
       "...                                                 ...   \n",
       "1015                 Dual Sim, 3G, 4G, 5G, VoLTE, Wi-Fi   \n",
       "1016                 Dual Sim, 3G, 4G, 5G, VoLTE, Wi-Fi   \n",
       "1017  Dual Sim, 3G, 4G, 5G, VoLTE, Wi-Fi, NFC, IR Bl...   \n",
       "1018            Dual Sim, 3G, 4G, 5G, VoLTE, Wi-Fi, NFC   \n",
       "1019                 Dual Sim, 3G, 4G, 5G, VoLTE, Wi-Fi   \n",
       "\n",
       "                                            processor  \\\n",
       "0     Snapdragon 8 Gen2, Octa Core, 3.2 GHz Processor   \n",
       "1        Snapdragon 695, Octa Core, 2.2 GHz Processor   \n",
       "2           Exynos 1330, Octa Core, 2.4 GHz Processor   \n",
       "3       Snapdragon  695, Octa Core, 2.2 GHz Processor   \n",
       "4        Dimensity 1080, Octa Core, 2.6 GHz Processor   \n",
       "...                                               ...   \n",
       "1015    Snapdragon 8 Gen1, Octa Core, 3 GHz Processor   \n",
       "1016   Snapdragon  480+, Octa Core, 2.2 GHz Processor   \n",
       "1017    Dimensity 8100, Octa Core, 2.85 GHz Processor   \n",
       "1018     Snapdragon 695, Octa Core, 2.2 GHz Processor   \n",
       "1019                              Octa Core Processor   \n",
       "\n",
       "                            ram                                    battery  \\\n",
       "0     12 GB RAM, 256 GB inbuilt   5000 mAh Battery with 100W Fast Charging   \n",
       "1      6 GB RAM, 128 GB inbuilt    5000 mAh Battery with 33W Fast Charging   \n",
       "2       4 GB RAM, 64 GB inbuilt    5000 mAh Battery with 15W Fast Charging   \n",
       "3      6 GB RAM, 128 GB inbuilt        5000 mAh Battery with Fast Charging   \n",
       "4      6 GB RAM, 128 GB inbuilt    5000 mAh Battery with 67W Fast Charging   \n",
       "...                         ...                                        ...   \n",
       "1015   8 GB RAM, 128 GB inbuilt  5000 mAh Battery with 68.2W Fast Charging   \n",
       "1016   6 GB RAM, 128 GB inbuilt  5000 mAh Battery with 22.5W Fast Charging   \n",
       "1017   8 GB RAM, 256 GB inbuilt    5080 mAh Battery with 67W Fast Charging   \n",
       "1018   6 GB RAM, 128 GB inbuilt        5000 mAh Battery with Fast Charging   \n",
       "1019   8 GB RAM, 128 GB inbuilt        5000 mAh Battery with Fast Charging   \n",
       "\n",
       "                                                display  \\\n",
       "0     6.7 inches, 1440 x 3216 px, 120 Hz Display wit...   \n",
       "1     6.59 inches, 1080 x 2412 px, 120 Hz Display wi...   \n",
       "2     6.6 inches, 1080 x 2408 px, 90 Hz Display with...   \n",
       "3     6.55 inches, 1080 x 2400 px, 120 Hz Display wi...   \n",
       "4     6.7 inches, 1080 x 2412 px, 120 Hz Display wit...   \n",
       "...                                                 ...   \n",
       "1015  6.67 inches, 1080 x 2460 px, 120 Hz Display wi...   \n",
       "1016  6.5 inches, 720 x 1600 px Display with Water D...   \n",
       "1017  6.6 inches, 1080 x 2460 px, 144 Hz Display wit...   \n",
       "1018  6.8 inches, 1080 x 2400 px Display with Punch ...   \n",
       "1019  6.5 inches, 1080 x 2400 px Display with Water ...   \n",
       "\n",
       "                                                 camera  \\\n",
       "0     50 MP + 48 MP + 32 MP Triple Rear & 16 MP Fron...   \n",
       "1     64 MP + 2 MP + 2 MP Triple Rear & 16 MP Front ...   \n",
       "2     50 MP + 2 MP + 2 MP Triple Rear & 13 MP Front ...   \n",
       "3     50 MP + 8 MP + 2 MP Triple Rear & 16 MP Front ...   \n",
       "4     108 MP + 8 MP + 2 MP Triple Rear & 16 MP Front...   \n",
       "...                                                 ...   \n",
       "1015  64 MP + 8 MP + 2 MP Triple Rear & 16 MP Front ...   \n",
       "1016  48 MP + 2 MP + Depth Sensor Triple Rear & 8 MP...   \n",
       "1017  64 MP + 8 MP + 2 MP Triple Rear & 16 MP Front ...   \n",
       "1018  108 MP + 8 MP + 2 MP Triple Rear & 32 MP Front...   \n",
       "1019  64 MP + 8 MP + 5 MP Triple Rear & 32 MP Front ...   \n",
       "\n",
       "                                  card           os  \n",
       "0            Memory Card Not Supported  Android v13  \n",
       "1      Memory Card (Hybrid), upto 1 TB  Android v12  \n",
       "2     Memory Card Supported, upto 1 TB  Android v13  \n",
       "3      Memory Card (Hybrid), upto 1 TB  Android v12  \n",
       "4            Memory Card Not Supported  Android v13  \n",
       "...                                ...          ...  \n",
       "1015                       Android v12  No FM Radio  \n",
       "1016  Memory Card Supported, upto 1 TB  Android v11  \n",
       "1017         Memory Card Not Supported  Android v12  \n",
       "1018  Memory Card Supported, upto 1 TB  Android v12  \n",
       "1019  Memory Card Supported, upto 1 TB  Android v12  \n",
       "\n",
       "[1020 rows x 11 columns]"
      ]
     },
     "execution_count": 35,
     "metadata": {},
     "output_type": "execute_result"
    }
   ],
   "source": [
    "df"
   ]
  },
  {
   "cell_type": "markdown",
   "id": "0c134025",
   "metadata": {},
   "source": [
    "#### Model column cleaning and modification"
   ]
  },
  {
   "cell_type": "code",
   "execution_count": null,
   "id": "9f4c00e9",
   "metadata": {},
   "outputs": [
    {
     "data": {
      "text/plain": [
       "'OnePlus 11 5GOnePlus Nord CE 2 Lite 5GSamsung Galaxy A14 5GMotorola Moto G62 5GRealme 10 Pro PlusSamsung Galaxy F23 5G (6GB RAM + 128GB)Apple iPhone 14Xiaomi Redmi Note 12 Pro PlusNothing Phone 1OnePlus Nord 2T 5GRealme 10 ProOppo A78Xiaomi Redmi Note 12 Pro 5GVivo T1 5G (6GB RAM + 128GB)Samsung Galaxy S23 Ultra 5GApple iPhone 13Vivo Y16OPPO Reno 9 Pro PlusOnePlus 10R 5GVivo Y22OnePlus 11RVivo V25 Pro 5GPoco X4 Pro 5GXiaomi Redmi Note 12Vivo V26 ProSamsung Galaxy S20 FE 5GOnePlus Nord CE 2 Lite 5G (8GB RAM + 128GB)Apple iPhone 14 Pro MaxVivo V25 5GOnePlus 11 ProRealme 10 Pro (8GB RAM + 128GB)Poco X5 ProVivo V27Apple iPhone 11Samsung Galaxy M53 5GSamsung Galaxy S21 FE 5GOppo Reno 8TSamsung Galaxy S22 Ultra 5GXiaomi Redmi Note 12 Pro Max 5GOPPO Reno 9 5GOnePlus Nord CE 3 5GXiaomi Redmi Note 11 Pro Plus 5GMotorola Edge 20 Fusion 5GRealme 10 Pro Plus (8GB RAM + 256GB)Vivo Y35Samsung Galaxy M33 5GXiaomi Redmi Note 11Realme C33Vivo Y16 (4GB RAM + 64GB)Samsung Galaxy A74 5GSamsung Galaxy A14 5G (6GB RAM + 128GB)iQOO Neo 7 5GJio JioPhone 5GMotorola Moto G82 5GRealme 10Realme 9i 5GApple iPhone 14 PlusXiaomi Redmi Note 10SSamsung Galaxy S23 PlusMotorola Moto G32Xiaomi Redmi Note 13 Pro 5GVivo S16Samsung Galaxy A23Vivo Y22 (6GB RAM + 128GB)Poco M4 Pro 5G (6GB RAM + 128GB)Vivo S16 ProOnePlus 10 Pro 5GXiaomi Redmi Note 12 Pro Plus (12GB RAM + 256GB)Samsung Galaxy F23 5GOppo Find N FoldOPPO A17KVivo V23 5G (12GB RAM + 256GB)iQOO Z6 Lite 5GOnePlus 10TXiaomi Redmi Note 10T 5G (6GB RAM +128GB)Gionee G13 ProApple iPhone 13 ProOPPO F22 ProSamsung Galaxy A34 5GXiaomi Redmi 10A (4GB RAM + 64GB)Motorola Moto G72 4GSamsung Galaxy A14 5G (8GB RAM + 128GB)Realme 9 5GVivo T1 5G (8GB RAM + 128GB)Samsung Galaxy M13 5GMotorola Edge 30 5GSamsung Galaxy A23 5GOPPO K10 5GXiaomi Redmi Note 11 (6GB RAM + 128GB)Samsung Galaxy A73 5GVivo Y21 2021OnePlus Ace Racing Edition 5GMotorola Moto G62 (8GB RAM + 128GB)Vivo X90 Pro Plus 5GRealme C33 (4GB RAM + 64GB)Realme 9iOPPO A17iQOO 11 5GVivo X Fold 5GVivo T1 5GApple iPhone 14 ProXiaomi Redmi Note 11 Pro Max 5GMotorola Moto S30 ProRealme 10sOPPO F19 Pro Plus 5GXiaomi 13 Pro 5GVivo V27 ProSamsung Galaxy S22 5GVivo T1 44W (6GB RAM + 128GB)OnePlus 10R 5G (12GB RAM + 256GB)Tecno Phantom X2Apple iPhone 12Xiaomi Redmi K50i 5GSamsung Galaxy A53 5GXiaomi Redmi A1OPPO Reno8 5GSamsung Galaxy M53 5G (8GB RAM + 128GB)iQOO Z6 Pro 5GTesla Pi PhoneSamsung Galaxy S23Motorola Edge 30 Pro 5GOnePlus Nord 2T (12GB RAM + 256GB)Google Pixel 6AInfinix Note 12 Pro 5GSamsung Galaxy M33 5G (8GB RAM + 128GB)Vivo V23 5GMotorola Moto G42OnePlus Nord CE 2 Lite 5G (8GB RAM + 256GB)Samsung Galaxy A33 5GGoogle Pixel 7AXiaomi Redmi 11 Prime 5GXiaomi Redmi Note 10 LiteMotorola Moto E40Nothing Phone 1 (8GB RAM + 256GB)Poco X4 Pro 5G (6GB RAM + 128GB)Xiaomi Redmi Note 11 Pro Plus 5G (8GB RAM + 256GB)Apple iPhone 11 (128GB)Realme C35 (6GB RAM + 128GB)OPPO K10iQOO Neo 6 5GiQOO Z6 5GOPPO Reno 9 Pro 5GPoco M4 Pro 5GJio Phone 3OnePlus CloverSamsung Galaxy F04iQOO 7Samsung Galaxy M34 5GXiaomi Redmi 10Apple iPhone 12 MiniXiaomi Redmi Note 12 (6GB RAM + 128GB)Motorola Moto G52Apple iPhone 15 Pro MaxOppo A98Infinix Zero 5G 2023Nokia 2780 FlipRealme C30OPPO F21 Pro 5GRealme 11 ProOppo Find N2 5GRealme 9 4GCola PhoneApple iPhone 13 Pro MaxOppo Reno 10 Pro PlusVivo X90 5GSamsung Galaxy F13Xiaomi Redmi Note 10S (6GB RAM + 128GB)Realme 10 (8GB RAM + 128GB)iQOO 9 SE 5GInfinix Hot 20Letv Y1 ProXiaomi Redmi Note 13 Pro Max 5GRealme Narzo 50 Pro 5GOPPO A74 5GApple iPhone 9iQOO Z6 Lite (6GB RAM + 128GB)Xiaomi Redmi Note 11SERealme Narzo 50Vivo Y75 5GVivo V25 (12GB RAM + 256GB)POCO M4 Pro 4GInfinix Zero UltraTecno Spark Go 2023Motorola Moto X40Samsung Galaxy F24 5GRealme 10 5GOnePlus Nord 3 5GMotorola Moto G82 (8GB RAM + 128GB)iKall Z19 ProLeEco S1 ProRealme C2sDuoqin F22 ProSamsung Galaxy M54 5GNokia N73 5GMotorola Edge 30 Fusion 5GRealme C35OPPO Reno 8 Pro House of Dragon EditionOnePlus Nord CE 3 Lite 5GPoco X4 Pro 5G (8GB RAM + 128GB)Samsung Galaxy M04OPPO A77sSamsung Galaxy A13Motorola Edge 30 UltraXiaomi 13 Ultra 5GMotorola Moto G52 (6GB RAM + 128GB)Poco M4 5GNothing Phone 1 (12GB RAM + 256GB)Samsung Galaxy A54 5GTecno Pova 4Xiaomi Redmi Note 12 Pro (8GB RAM + 256GB)Apple iPhone 14 Pro Max (256GB)Vivo V25 Pro (12GB RAM + 256GB)Realme 9 5G (6GB RAM + 128GB)Realme 9 Pro 5GLava Blaze 5GHonor X9aGoogle Pixel 7 Pro 5GTecno Pova 3Vivo V23 Pro 5GSamsung Galaxy A04eXiaomi Redmi K60Realme 9 Pro Plus 5GRealme 9i 5G (6GB RAM + 128GB)Motorola Edge 30 5G (8GB RAM + 128GB)Xiaomi Redmi Note 11 (6GB RAM + 64GB)Vivo Y02POCO C31 (4GB RAM + 64GB)Realme Narzo 50 5GRealme GT Neo 3TOPPO Reno 8 Pro 5GOnePlus 10 Pro 5G (12GB RAM + 256GB)iQOO 11 Pro 5GVivo T1x 4GXiaomi Redmi 10 PowerOPPO A58Vivo T1 44WXiaomi Mix Fold 2 5GVivo Y16 (3GB RAM + 64GB)OPPO Reno 8 ZVivo Y75 4GXiaomi Redmi Note 12 ExplorerOPPO A57 4G (4GB RAM + 64 GB)Samsung Galaxy A75 5GVivo T1 Pro 5G (8GB RAM + 128GB)Google Pixel 7 5GXiaomi Redmi Note 11T 5G (6GB RAM + 128GB)OPPO F21s Pro 4GApple iPhone 14 (256GB)Motorola Moto G73Nubia Red Magic 8 Pro 5GMotorola Moto G31Tecno Phantom X2 ProInfinix Zero 20iQOO Z6 5G (6GB RAM + 128GB)Xiaomi Redmi Note 11 Pro 5GOPPO A1 ProSamsung Galaxy S22 FE 5GSamsung Galaxy S22 Plus 5GVivo U3xMotorola Moto G23Poco M4 5G (6GB RAM + 128GB)Tecno Pova 5GPOCO C31Apple iPhone XR2Samsung Galaxy A53 (8GB RAM + 256GB)Infinix Note 12 5GOPPO Reno7 Pro 5GOnePlus Ace 2Redmi Note 11 Pro 2023Nothing Phone 2Samsung Galaxy A32 (8GB RAM + 128GB)Nokia 2720 V FlipGoogle Pixel 6 ProInfinix Note 12i (2022)Xiaomi Redmi 11 Prime 5G (6GB RAM + 128GB)Xiaomi Redmi Note 11 Pro Plus 5G (8GB RAM + 128GB)Xiaomi 12 Pro 5GApple iPhone 13 MiniTecno Pova 3 (6GB RAM + 128GB)Realme C31 (4GB RAM + 64GB)Asus ROG Phone 6 Pro 5GVivo V23e 5GApple iPhone 14 MiniXiaomi Redmi Note 10T 5GiQOO Neo 7 SE 5GSamsung Galaxy A23 (8GB RAM + 128GB)Xiaomi Redmi Note 12 Pro (8GB RAM + 128GB)Xiaomi Redmi Note 12 TurboInfinix Note 12 ProInfinix Hot 20 (6GB RAM+ 128GB)Apple iPhone 14 Pro Max (1TB)Samsung Galaxy M13Poco M4 Pro 5G (8GB RAM + 128GB)Xiaomi Redmi Note 10S (8GB RAM + 128GB)Realme C11 2021 (4GB RAM + 64GB)Samsung Galaxy A23 5G (8GB RAM + 128GB)Motorola Edge 30 Ultra (12GB RAM + 256GB)OPPO F21s ProXiaomi 13 5GXiaomi Redmi 10AVivo Y01AXiaomi Redmi K50i (8GB RAM + 256GB)Realme C30 (3GB RAM + 32GB)Motorola Moto G51 5GXiaomi Redmi 10 (6GB RAM + 128GB)Xiaomi Mi 11 Lite NE 5GSamsung Galaxy Z Flip 3Apple iPhone 12 (128GB)OnePlus 10T (16GB RAM + 256GB)Samsung Galaxy A13 (4GB RAM + 128GB)OPPO Reno7 5GOnePlus 9RT 5GSamsung Galaxy A53 5G (8GB RAM + 128GB)Samsung Galaxy S22 Ultra 5G (12GB RAM + 512GB)Motorola Moto G71 5Gitel S16 ProVivo Y100Samsung Galaxy M13 5G (4GB RAM + 64GB)POCO X5 GTHonor X9 5GiQOO 11 (16GB RAM + 256GB)Samsung Galaxy Z Fold 4Royole FlexPai 2Apple iPhone 14 Plus (256GB)Samsung Galaxy A33 5G (8GB RAM + 128GB)Tecno Spark 9Google Pixel 6Xiaomi Redmi Note 10 Pro (6GB RAM + 128GB)Samsung Galaxy S21 UltraInfinix Hot 20 PlayVivo T1x (6GB RAM + 128GB)OPPO F23 ProiQOO Z6 Pro 5G (8GB RAM + 128GB)Samsung Galaxy A73 5G (8GB RAM + 256GB)Realme 9 5G SE (8GB RAM + 128GB)Poco F4 5GInfinix Note 12Samsung Galaxy A03 CoreMotorola Moto G60OnePlus 9 ProXiaomi Redmi Note 11SXiaomi Redmi 9 ActivTecno Camon 19 Pro 5GSamsung Galaxy A04POCO M4 Pro 4G (6GB RAM + 128GB)OnePlus Nord N20 5GApple iPhone 13 (256GB)Oppo Find X6 ProVivo X90 Pro 5GMotorola Moto G53Motorola Moto G22Xiaomi Redmi 9i SportJio JioPhone NextVivo Y93Xiaomi Redmi K60 ProRealme C30sVivo Y22sOPPO A77Xiaomi Redmi 10A SportPoco F4 (12GB RAM + 256GB)Realme 9 4G (8GB RAM + 128GB)Xiaomi 12T Pro 5GiQOO 9 5GApple iPhone 12 Mini (128GB)Samsung Galaxy S24 UltraOPPO Find N FlipOnePlus 10T (12GB RAM + 256GB)Tecno Spark 9 (4GB RAM + 64GB)Samsung Galaxy S21 FE 5G (8GB RAM + 256GB)Xiaomi Redmi Note 11T 5G (8GB RAM + 128GB)Sony Xperia Pro-IVivo V21 ProPoco X3Samsung Galaxy S20 FEGoogle Pixel 4Samsung Galaxy S10 PlusNokia 2660 FlipRealme 11 Pro PlusOPPO F21 Pro 4GRealme GT 2 5GSamsung Galaxy S21Samsung Galaxy A71Vivo Y02sLetv Y2 ProTecno Spark 8C (4GB RAM + 64GB)iQOO Z6 5G (8GB RAM + 128GB)Vivo T1 ProRealme 9 Pro Plus 5G (8GB RAM + 128GB)Samsung Galaxy A04sRealme 9i (6GB RAM + 128GB)Realme 8 5G (8GB RAM + 128GB)OPPO F19OPPO Find N2 FlipSamsung Galaxy M32 Prime EditionOukitel WP19Realme 9 Pro 5G (8GB RAM + 128GB)Xiaomi Redmi Note 10 Lite (6GB RAM + 128GB)Samsung Galaxy A13 5GXiaomi Redmi Note 11 5Gitel P36Jio JioPhone 2Realme GT Neo 5Apple iPhone 15 UltraPoco C50Samsung Galaxy Note 30 Ultra 5GRealme 9i (4GB RAM + 128GB)Xiaomi Redmi Note 11T 5GVivo X80 Pro 5GOPPO Reno 6 Pro 5GXiaomi Mi 11i 5GAsus ROG Phone 7Oppo A77 5GRealme 9 5G SESamsung Galaxy A03OnePlus Nord N200Xiaomi Mi 11XOPPO Reno 6Realme X50 Pro 5G (12GB RAM + 256GB)Xiaomi Redmi 10A (6GB RAM + 128GB)Redmi Note 12 Pro Speed EditionApple iPhone 14 Pro (256GB)Motorola Moto G72Motorola Moto X30 ProXiaomi 12S UltraHonor 70 5GOnePlus 10 Pro 5G (12GB RAM + 512GB)Vivo V23 Pro 5G (12GB RAM + 256GB)OPPO A55 4G (6GB RAM + 128GB)Xiaomi Mi 11T Pro 5GNokia X50 5GXiaomi Redmi Note 10Vertu Signature TouchSamsung Galaxy M32 Prime Edition (6GB RAM + 128GB)Tecno Camon 19 Pro Mondrian EditionPoco F5BLU F91 5GOPPO A16eMotorola Moto E32Xiaomi Redmi Note 11S (8GB RAM + 128GB)Apple iPhone SE 3 2022Samsung Galaxy A52 (8GB RAM + 128GB)Poco X3 ProXiaomi Redmi 9ASamsung Galaxy A32Motorola Moto G13Asus ROG Phone 6 Batman EditionXiaomi Redmi Note 12 Pro Plus (6GB RAM + 128GB)Infinix Smart 6 HDApple iPhone 15 ProRealme C35 (4GB RAM + 128GB)Infinix Hot 12Vivo X80 5GVivo Y53sTecno Phantom XSamsung Galaxy M04 (4GB RAM + 128GB)Redmi 12CAsus ZenFone 9Sony Xperia L5 5GiQOO 9 SE 5G (12GB RAM + 256GB)Tecno Spark 8 ProXiaomi Redmi 10 PrimeSamsung Galaxy F22Xiaomi Mi Mix AlphaOPPO Reno 10 ProNubia Z50Samsung Galaxy F13 (4GB RAM + 128GB)Nokia G11 PlusInfinix Hot 12 PlayVivo T2 5GOPPO Reno7 Z 5GXiaomi Mi 11 Lite NE 5G (8GB RAM + 128GB)Realme Narzo 50iInfinix Zero X ProNokia 110 4GSamsung Galaxy M32Samsung Galaxy A82 5GXiaomi Poco F1Vivo Y25Lyf Earth 1Motorola Moto E13Tecno Pop 6 ProItel A24 ProVivo X Fold PlusHuawei Mate 50 RS Porsche DesignSamsung Galaxy F63iQOO Z6 4G (6GB RAM + 128GB)Nokia 8000 4GSony Xperia 5 IIVivo Y3 (4GB RAM + 128GB)Sony Xperia 1 IV (12GB RAM + 512GB)Tecno Pova 4 ProHuawei Nova 10 SEVivo T1x (4GB RAM + 128GB)Nubia Red Magic 7S ProMotorola Moto E32s (4GB RAM + 64GB)iQOO Neo 6 5G (12GB RAM + 256GB)Samsung Galaxy A15POCO X4 GT 5GRealme Narzo 50 5G (4GB RAM + 128GB)Vivo Y77 5GHonor 60 SE 5GXiaomi Redmi 11 PrimeRealme C31Motorola Moto G31 (6GB RAM+ 128GB)Samsung Galaxy Z Flip 4 5GOnePlus 6 (8GB RAM + 128GB)Google Pixel 2 XLXiaomi Redmi A1 PlusHonor 70 5G (8GB RAM + 256GB)Realme Narzo 50 (6GB RAM + 128GB)Vivo Y15sSamsung Galaxy M32 (6GB RAM + 128GB)Samsung Galaxy F42 5GRealme Q5 5GPOCO M3 Pro 5GGoogle Pixel 5OnePlus 12 ProXiaomi Redmi Note 12 Discovery EditionSamsung Galaxy M13 (4GB RAM + 64GB)Oppo Reno 8 Pro (8GB RAM + 256GB)Vivo Y78 5GiQOO Z6 4GOPPO A76Realme 9 Pro Plus 5G (8GB RAM + 256GB)Vivo Y01Motorola Moto Edge S30 5GRealme GT 2 Pro 5GApple iPhone 13 Pro (256GB)Vivo Y73 2021Samsung Galaxy F14Vivo V20Xiaomi Redmi Note 9 ProSamsung Guru Music 2 Dual SimItel MagicX ProOnePlus 10R Prime EditionGoogle Pixel 6 Pro (12GB RAM + 256GB)Nokia C31Infinix Hot 12 Pro (8GB RAM+ 128GB)Poco M5Xiaomi Redmi 10C (4GB RAM + 128GB)ZTE Axon 40 Ultra 5GXiaomi 12 Pro 5G (12GB RAM + 256GB)OPPO K10 (8GB RAM + 128GB)Huawei Nova 9 SESamsung Galaxy S22 5G (8GB RAM + 256GB)Lenovo Legion Y90Vivo Y55 5GNokia X100 5GRealme 8s 5G (8GB RAM + 128GB)Realme 8s 5GNokia X60 Pro 5Gitel Magic 2 4GPoco X5Xiaomi Redmi Note 10 Pro Max (6GB RAM + 128GB)iQOO 7 (12GB RAM + 256GB)Realme 8Samsung Galaxy S20Xiaomi Redmi K60EMotorola Moto E32sOnePlus Nord 3T 5GOPPO F23 Pro Plus 5GPoco F5 ProOPPO A16e (4GB RAM + 64GB)POCO M4 Pro 4G (8GB RAM + 128GB)Realme Narzo 50AAsus ROG Phone 5s 5GRealme GT Master Edition 5GSamsung Galaxy A32 5GNubia Red Magic 8 Pro PlusSamsung Galaxy Z Fold 3LG Wing 5GXiaomi Redmi Note 9 Pro MaxSamsung Galaxy A52Nokia 105 (2019)Vivo Y71Lyf C459Samsung Galaxy A04e (3GB RAM + 64GB)Oppo A56sOppo Reno 8T 4GOPPO Reno 10Nokia G60OPPO A77 (4GB RAM + 128 GB)Nokia 8210 4GMotorola Edge 40 Pro 5GOppo K10x 5GiQOO Z6 Pro 5G (12GB RAM + 256GB)Nokia G21 (6GB RAM + 128GB)Samsung Galaxy A13 (6GB RAM + 128GB)OPPO A16K (4GB RAM + 64GB)Xiaomi Redmi 10CTecno Spark 9 ProRealme GT Neo 3 5GXiaomi 11i HyperCharge 5GiQOO Neo 6 SE 5GiQOO 9 Pro 5GRealme Narzo 50i (4GB RAM + 64GB)Xiaomi Redmi 9 Activ (6GB RAM + 128GB)Jio JioPhone Next (3GB RAM + 32GB)Xiaomi Redmi Note 8 2021Xiaomi Redmi Note 10 5GVivo Y20GSamsung Galaxy A22 5GVivo V21Realme 7 Pro (8GB RAM + 128GB)OnePlus Nord LiteSamsung Galaxy S20 Ultra 5GApple iPhone 11 Pro MaxApple iPhone 7sNamotel Achhe DinSony Xperia Ace IVSamsung Galaxy A04e (4GB RAM + 128GB)Eunity U1 5605NXiaomi Redmi Note 12 4GOukitel WP21Vivo V28Poco F4 5G (8GB RAM + 128GB)Xiaomi Redmi Note 11T Pro 5GRealme Narzo 50 Pro 5G (8GB RAM + 128GB)Vivo T1 44W (8GB RAM + 128GB)Xiaomi Redmi Note 11S (6GB RAM + 128GB)Lava Agni 5GRealme 8i (6GB RAM + 128GB)OPPO A55 4GPOCO M3 Pro 5G (6GB RAM + 128GB)Realme C21YOPPO A16Vivo V21 5GNokia 225 4GApple iPhone 12 Pro (512GB)Sony Xperia 1 IIMotorola Edge PlusSamsung Galaxy Note 20Samsung Galaxy A12Xiaomi Redmi Note 12 Pro 4GRealme GT Neo 3T (8GB RAM + 128GB)Realme C30s (4GB RAM + 64GB)Apple iPhone 14 (512GB)iQOO 9T 5GTecno Camon 19 ProOnePlus Nord 2 Lite 5GNokia 105 PlusSamsung Galaxy S22 Ultra 5G (8GB RAM + 128GB)POCO F4 GT 5GXiaomi 11T Pro 5G (12GB RAM + 256GB)Vivo Y10Nokia 2760 FlipSamsung Galaxy A83 5GMotorola Moto A10Vivo Y33sHuawei Mate 40 Pro 4GMicromax IN 2BAsus ROG Phone 6Realme X7 MaxRealme 8 5GOPPO A55 5GXiaomi Redmi 9Apple iPhone SE 2020Zanco Tiny T1Letv Y1 Pro PlusOnePlus Nord 5Vivo Y73TOPPO Reno 9 ZVivo V25eInfinix Hot 12 ProRealme Narzo 50 5G (4GB RAM + 64GB)itel it2163Sitel Vision 3OPPO A96 4GXiaomi Redmi Note 11E 5GHonor Magic 4 Pro Plus 5GTecno Spark 9TInfinix Smart 6Realme C25Y (4GB RAM + 64GB)Samsung Galaxy A12 (6GB RAM + 128GB)Tecno Camon 19Xiaomi Redmi Note 10 Pro 5GXiaomi Mi 11X 5G (8GB RAM + 128GB)Xiaomi Redmi Note 10 (6GB RAM + 128GB)Xiaomi Redmi Note 10 Pro MaxXiaomi Mi 10T 5GLG Velvet 5GMotorola One Fusion PlusLG V60 ThinQSamsung Galaxy Note 10 LiteSamsung Galaxy Note 10 Plus 5GXiaomi Qin 1iQOO Neo 7 Racing EditionSamsung Galaxy A04s (4GB RAM + 128GB)Vivo Y35 5GVivo Y02 (2GB RAM + 32GB)itel Vision 3 (2GB RAM + 32GB)Xiaomi Redmi Note 11RPoco M6 ProOPPO A97 5GSamsung Galaxy A24Infinix Note 13 ProHonor Play 30Infinix Smart 6 PlusSony Xperia 5 IV 5GSamsung Guru GT-E1215Nubia Z40 Pro 5GNokia G21Xiaomi 12 Lite 5GOppo Find N 5GApple iPhone 13 Pro Max (256GB)Vivo Y21sOPPO F19sSamsung Galaxy M21 2021OPPO F19 ProOPPO X 2021OnePlus Nord N10Gionee M12 ProPoco M2OPPO F17 ProMotorola Moto G 5GSamsung Galaxy A50sSamsung Galaxy Note 10 PlusVivo Y15Vivo S1 ProVivo T3 ProVivo V21sAsus ROG Phone 6D UltimateMotorola Moto Edge 30 NeoXiaomi 12THuawei Mate 50 Pro 5GRealme C32Huawei Mate Xs 2iQOO Z7 Pro 5GApple iPhone 15Infinix Note 11S (8GB RAM + 128GB)Tecno Spark 8 (4GB RAM + 64GB)Oppo A56 5GVivo X80 Pro Plus 5GXiaomi Redmi 10 Prime (6GB RAM + 128GB)Huawei Nova 9Tecno Pop 5 GoHuawei P50 Pro 4GXiaomi Redmi K50 5GNokia C01 PlusRealme Q3OPPO Reno 6 Pro Plus 5GMotorola Edge SOppo Find X3 ProPoco M3itel S16Vivo V20 ProXiaomi Mi 10T Pro 5GVivo V19 (8GB RAM + 256GB)Nokia 400 4GSamsung Galaxy S20 5GVivo U3Oppo K5 (8GB RAM + 128GB)Realme XTVivo Y12 (3GB RAM + 64GB)Apple iPod Touch (7th Gen)Xiaomi Poco F1 (6GB RAM + 128GB)Poco C50 (3GB RAM + 32GB)Karbonn KU3iiKall Z19Xiaomi Redmi K60 Gaming EditionVivo S17 ProHonor 80 Pro PlusApple iPhone SE 4Tecno Pova Neo 5GApple iPhone 14 Pro Max (512GB)Google Pixel 8Vivo T2x 5GMotorola Moto G52 5GMotorola Edge 40 5GVivo X Note 5G (12GB RAM + 512GB)Realme GT 2 Pro 5G (12GB RAM + 256GB)Vivo Y15CHonor X8Samsung Galaxy A03 (4GB RAM + 64GB)Samsung Galaxy S22 Plus 5G (8GB RAM + 256GB)Vivo Y33TXiaomi 11i 5G (8GB RAM + 128GB)Oppo Find X5 Pro 5GTecno Spark Go 2022Vivo Y21eXiaomi Redmi 9A SportApple iPhone 13 Pro Max (1TB)Vivo Y12G (3GB RAM + 64GB)Vivo V23eSamsung Galaxy F22 (6GB RAM + 128GB)Xiaomi 12 Ultra 5GMicromax IN 2CSamsung Galaxy A03sOPPO A54 (4GB RAM + 128GB)Xiaomi Redmi 20XXiaomi Mi Mix FoldRealme Narzo 30 5GOPPO A54Oppo A15s (4GB RAM + 128GB)itel A56Xiaomi Redmi 9 PowerSamsung Galaxy S21 PlusPOCO M2 ProSamsung Galaxy S20 PlusRealme 6 ProHuawei P40 ProVivo Y11 (2019)Vivo V15 Pro (8GB RAM +128GB)Vivo Y95Vivo V11iSamsung Galaxy S9 Plus (128GB)Realme GT Neo 4TVivo Y53tSamsung Galaxy A04 (4GB RAM + 128GB)Leitz Phone 2Xiaomi Redmi K60iInfinix Hot 20SRealme GT Neo 3T (8GB RAM + 256GB)Apple iPhone 14 Plus (512GB)Apple iPhone 14 Pro (1TB)Xiaomi Redmi 13 Prime 5GXiaomi Redmi 11 Prime (6GB RAM + 128GB)itel Magic XNokia C21 Plus (4GB RAM + 64GB)OnePlus Nord N300Tecno Camon 19 NeoRealme Narzo 50i PrimeXiaomi Redmi K50 Ultra 5GOPPO A57 4GInfinix Note 12 (6GB RAM + 128GB)Samsung Galaxy S23 FE 5GSamsung Galaxy M51s 5GVivo X80 5G (12GB RAM + 256GB)Poco X6 Pro 5GInfinix Note 12 (G96)Samsung Galaxy M14Vivo T2 Pro 5GXiaomi Redmi 10 Prime Plus 5GXiaomi Redmi Note 11 Pro 4GRealme Narzo 50A PrimeEunity U1 KingVivo Y55s 5GVivo Y21TGionee K10Xiaomi Redmi Note 10 Lite (4GB RAM + 128GB)Apple iPhone 13 (512GB)Infinix Hot 11SRealme GT Explorer Master EditionXiaomi Mi 12 5GCAT S22 FlipXiaomi Mi 11 Lite (8GB RAM + 128GB)DIZO Star 500Realme Q3i 5GXiaomi Mi 11X ProLenovo Legion Pro 2Samsung Galaxy M62Realme Q2iNokia 215 4GApple iPhone 12 Pro (256GB)Xiaomi Redmi 9i (4GB RAM + 128GB)Realme 6 (6GB RAM + 64GB)Samsung Galaxy A01 CoreLG Folder 2Oppo Reno 5Oppo A31 2020 (6GB RAM + 128GB)Sony Xperia 10 IIVivo Y91cHuawei Nova 7iVivo Y19Vivo U3 (6GB RAM + 64GB)Xiaomi Redmi Note 9Xiaomi Redmi 8 (4GB RAM + 64GB)Motorola One MacroGoogle Pixel 3a XLSamsung Galaxy A40Samsung Galaxy S10 5GHuawei Honor 9NXiaomi Redmi Note 4BlackZone Ultra 4GDoogee V MaxHuawei Nova Y61iQOO Z9Vivo V29Poco M5 (6GB RAM + 128GB)Nokia X30Tecno Pova Neo 2Nokia 110 (2022)Nokia 5710 XpressAudioVivo Y15C (3GB RAM + 64GB)Huawei Nova 10Huawei Nova Y90Samsung Galaxy A92 5GInfinix Note 12 VIPOnePlus Nord 4 5GRealme Narzo 50A Prime (4GB RAM + 128GB)OnePlus Ace 5GiQOO 9 5G (12GB RAM + 256GB)Xiaomi Redmi Note 12T 5GOppo A96 5GRoyole FlexPai 3 5GTecno Camon 18Tecno Phantom X ProTecno Spark 8TRealme GT Neo2 5GSony Xperia 10 III Lite 5GRealme G1Tecno Pova 2Poco X4Motorola Moto G40 FusionOnePlus 9TRealme 8 (8GB RAM + 128GB)Realme Narzo 30 Pro 5G (8GB RAM +128GB)Itel A23 ProSamsung Galaxy S21 Ultra 5G (12GB RAM + 128GB)Oppo Reno 5 Pro 5GOnePlus Nord SESamsung Galaxy M12OnePlus Nord N100Apple iPhone 12 Mini (256GB)Apple iPhone 12 (256GB)OPPO A15Xiaomi Redmi Note 9 Pro (4GB RAM + 128GB)Nokia 150 (2020)Oppo A12Realme X50 Pro 5G (8GB RAM + 128GB)Samsung Galaxy S20 Plus 5GXiaomi Redmi K20 Pro Signature EditionXiaomi Redmi Note 8 ProRealme A1OPPO A73Nokia 3310 4GLyf Earth 2Samsung Guru E1200Apple iPhone 15 PlusVivo Y55s 2023iKall K88 Pro 4GLava Blaze NXTEunity U1 LivoTecno Camon 20 PremierOPPO Reno 8 House of Dragon EditionMotorola Moto E22sXiaomi Redmi A1 Plus (3GB RAM + 32GB)Infinix Hot 20iTecno Spark 9 (3GB RAM + 64GB)ZTE Axon 30SHonor X6Xiaomi Civi 2TCL Ion XSamsung Galaxy Z Fold 4 (12GB RAM + 1TB)Nothing Phone 1 LiteMotorola Moto Edge X30 ProOnePlus Ace ProRealme GT 2 Explorer Master EditionSamsung Galaxy M35Samsung Galaxy A05Infinix Note 12 TurboPOCO F5 GT 5GiQOO Z8 5GVivo Y55 4GVivo X Fold 5G (12GB RAM + 512GB)Oppo K10 Pro 5GTecno Spark 8CiQOO Z7 5GInfinix Note 11 (6GB RAM + 128GB)Xiaomi 11i HyperCharge 5G (8GB RAM + 128GB)Samsung Galaxy F42 5G (8GB RAM + 128GB)Apple iPhone 13 Pro (1TB)Nubia Red Magic 6S 5GMicromax IN 2B (6GB RAM + 64GB)Nokia X60 5GVivo Y12aOppo Reno 5APoco F3 GTHonor 50OPPO A54 (6GB RAM + 128GB)Realme 8iiQOO 7 LegendRealme C11 2021Samsung Galaxy A22Realme GT 5GGoogle Pixel 5ASamsung Galaxy F12Samsung Galaxy F41 (6GB RAM + 128GB)Samsung Galaxy A21s (6GB RAM + 128GB)Xiaomi Redmi 9A (6GB RAM + 128GB)Vivo V20 SEOPPO A53 2020 (6GB RAM + 128GB)Realme Narzo 20itel Vision 1 (3GB RAM + 32GB)Realme C11Xiaomi Mi 10 5G (8GB RAM + 256GB)Vivo Y21 (2020)OnePlus ZNokia 5310 Dual SimSharp Aquos R5GHuawei Mate 30 RS Porsche DesignSamsung Galaxy A11Realme C2Huawei Mate XSamsung Galaxy A9 Pro (2019)Samsung Galaxy A7 (2018)Vivo Y55SPoco C55Blackview BV5200 ProHonor X7aXTouch F40 FlipOPPO A58xDoogee S99Lava X3Motorola Edge 40 FusioniKall Z18Oukitel WP9Xiaomi 14Motorola ThinkPhoneXiaomi Civi 3Realme Narzo 50i Prime (4GB RAM + 64GB)Oppo Find X6itel A23sGoogle Pixel 8 ProVivo X Fold 2Motorola Moto Edge S30 ProHonor X8 5GPOCO X4 GT 5G (8GB RAM + 256GB)Motorola Moto G91 5GSamsung Galaxy M52s 5G'"
      ]
     },
     "execution_count": 34,
     "metadata": {},
     "output_type": "execute_result"
    }
   ],
   "source": [
    "# unique brands in the data \n",
    "df['model'].unique()"
   ]
  },
  {
   "cell_type": "code",
   "execution_count": 45,
   "id": "d4b81ee2",
   "metadata": {},
   "outputs": [],
   "source": [
    "# clean model column \n",
    "# remove leading and trailing spaces\n",
    "df['model'] = df['model'].str.strip()"
   ]
  },
  {
   "cell_type": "code",
   "execution_count": 46,
   "id": "f7fb7311",
   "metadata": {},
   "outputs": [],
   "source": [
    "# remove missing model \n",
    "df = df[df['model'] !='']"
   ]
  },
  {
   "cell_type": "code",
   "execution_count": 47,
   "id": "fac3f4f1",
   "metadata": {},
   "outputs": [
    {
     "name": "stdout",
     "output_type": "stream",
     "text": [
      "0                OnePlus 11 5G\n",
      "1    OnePlus Nord CE 2 Lite 5G\n",
      "2        Samsung Galaxy A14 5G\n",
      "3         Motorola Moto G62 5G\n",
      "4           Realme 10 Pro Plus\n",
      "Name: model, dtype: object\n"
     ]
    }
   ],
   "source": [
    "print(df['model'].head())"
   ]
  },
  {
   "cell_type": "markdown",
   "id": "743d9d48",
   "metadata": {},
   "source": [
    "#### Price Column Cleaning and Modification"
   ]
  },
  {
   "cell_type": "code",
   "execution_count": null,
   "id": "c13c7d3c",
   "metadata": {},
   "outputs": [],
   "source": [
    "\n",
    "# clean column\n",
    "df['price'] = df['price'].str.replace('₹', '').str.replace(',', '').astype(int)\n"
   ]
  },
  {
   "cell_type": "code",
   "execution_count": 48,
   "id": "020b9b3e",
   "metadata": {},
   "outputs": [],
   "source": [
    "df = df.dropna(subset=['price'])"
   ]
  },
  {
   "cell_type": "code",
   "execution_count": 49,
   "id": "8d949a2c",
   "metadata": {},
   "outputs": [
    {
     "name": "stdout",
     "output_type": "stream",
     "text": [
      "0    54999\n",
      "1    19989\n",
      "2    16499\n",
      "3    14999\n",
      "4    24999\n",
      "Name: price, dtype: int64\n"
     ]
    }
   ],
   "source": [
    "# print price\n",
    "print(df['price'].head())"
   ]
  },
  {
   "cell_type": "markdown",
   "id": "22d529e3",
   "metadata": {},
   "source": [
    "#### Sim Column Cleaning and Modification"
   ]
  },
  {
   "cell_type": "code",
   "execution_count": 50,
   "id": "93a7f9ae",
   "metadata": {},
   "outputs": [],
   "source": [
    "# extract the column in sim -> "
   ]
  },
  {
   "cell_type": "code",
   "execution_count": 51,
   "id": "e7ae6b8a",
   "metadata": {},
   "outputs": [],
   "source": [
    "# extract has_5g, nf,ir blaster \n",
    "df['has_5g'] = df['sim'].str.contains('5G', case=False, na=False)\n",
    "df['has_nfc'] = df['sim'].str.contains('NFC', case=False, na=False)\n",
    "df['has_ir_blaster'] = df['sim'].str.contains('IR Blaster', case=False, na=False)"
   ]
  },
  {
   "cell_type": "code",
   "execution_count": 52,
   "id": "a19b73a6",
   "metadata": {},
   "outputs": [
    {
     "name": "stdout",
     "output_type": "stream",
     "text": [
      "   has_5g  has_nfc  has_ir_blaster\n",
      "0    True     True           False\n",
      "1    True    False           False\n",
      "2    True    False           False\n",
      "3    True    False           False\n",
      "4    True    False           False\n"
     ]
    }
   ],
   "source": [
    "print(df[['has_5g', 'has_nfc', 'has_ir_blaster']].head())"
   ]
  },
  {
   "cell_type": "markdown",
   "id": "a3ca5d4c",
   "metadata": {},
   "source": [
    "#### Processor column"
   ]
  },
  {
   "cell_type": "code",
   "execution_count": 56,
   "id": "f916a89f",
   "metadata": {},
   "outputs": [
    {
     "data": {
      "text/plain": [
       "array(['Snapdragon 8 Gen2, Octa Core, 3.2\\u2009GHz Processor',\n",
       "       'Snapdragon 695, Octa Core, 2.2\\u2009GHz Processor',\n",
       "       'Exynos 1330, Octa Core, 2.4\\u2009GHz Processor',\n",
       "       'Snapdragon  695, Octa Core, 2.2\\u2009GHz Processor',\n",
       "       'Dimensity 1080, Octa Core, 2.6\\u2009GHz Processor',\n",
       "       'Snapdragon  750G, Octa Core, 2.2\\u2009GHz Processor',\n",
       "       'Bionic A15, Hexa Core, 3.22\\u2009GHz Processor',\n",
       "       'Snapdragon 778G Plus, Octa Core, 2.5\\u2009GHz Processor',\n",
       "       'Dimensity  1300, Octa Core, 3\\u2009GHz Processor',\n",
       "       'Dimensity 700 5G, Octa Core, 2.2\\u2009GHz Processor',\n",
       "       'Helio P35, Octa Core, 2.3\\u2009GHz Processor',\n",
       "       'Snapdragon 8+ Gen1, Octa Core, 3.2\\u2009GHz Processor',\n",
       "       'Dimensity 8100 Max, Octa Core, 2.85\\u2009GHz Processor',\n",
       "       'Helio G70, Octa Core, 2\\u2009GHz Processor',\n",
       "       'Snapdragon  8+ Gen1, Octa Core, 3.2\\u2009GHz Processor',\n",
       "       'Dimensity 1300, Octa Core, 3\\u2009GHz Processor',\n",
       "       'Snapdragon 695 , Octa Core, 2.2\\u2009GHz Processor',\n",
       "       'Snapdragon 4 Gen 1, Octa Core, 2\\u2009GHz Processor',\n",
       "       'Dimensity 9000 Plus, Octa Core, 3.2\\u2009GHz Processor',\n",
       "       'Snapdragon 865, Octa Core, 2.84\\u2009GHz Processor',\n",
       "       'Bionic  A16, Hexa Core Processor',\n",
       "       'Dimensity  900, Octa Core, 2\\u2009GHz Processor',\n",
       "       'Snapdragon  8 Gen2, Octa Core, 3.2\\u2009GHz Processor',\n",
       "       'Snapdragon 778G, Octa Core, 2.4\\u2009GHz Processor',\n",
       "       'Dimensity  930, Octa Core, 2.2\\u2009GHz Processor',\n",
       "       'A13 Bionic, Hexa Core, 2.65\\u2009GHz Processor',\n",
       "       'Dimensity  900 5G, Octa Core, 2.4\\u2009GHz Processor',\n",
       "       'Exynos  2100, Octa Core, 2.9\\u2009GHz Processor',\n",
       "       'Snapdragon  8 Gen1, Octa Core, 3\\u2009GHz Processor',\n",
       "       'Snapdragon  7 Gen1, Octa Core, 2.36\\u2009GHz Processor',\n",
       "       ' Snapdragon  695, Octa Core, 2.2\\u2009GHz Processor',\n",
       "       'Dimensity 800U, Octa Core, 2.4\\u2009GHz Processor',\n",
       "       'Snapdragon 680, Octa Core, 2.4\\u2009GHz Processor',\n",
       "       'Exynos  1280, Octa Core, 2.4\\u2009GHz Processor',\n",
       "       'Snapdragon  680, Octa Core, 2.4\\u2009GHz Processor',\n",
       "       'Unisoc T612, Octa Core, 1.8\\u2009GHz Processor',\n",
       "       'Snapdragon 7 Gen1, Octa Core, 2.36\\u2009GHz Processor',\n",
       "       'Dimensity 8200, Octa Core, 3.1\\u2009GHz Processor',\n",
       "       'Snapdragon 480+, Octa Core, 2.2\\u2009GHz Processor',\n",
       "       'Helio G99, Octa Core, 2.2\\u2009GHz Processor',\n",
       "       'Dimensity 810 5G, Octa Core, 2.4\\u2009GHz Processor',\n",
       "       'Helio G95, Octa Core, 2.05\\u2009GHz Processor',\n",
       "       'Dimensity 720, Octa Core, 2\\u2009GHz Processor',\n",
       "       'Snapdragon 870, Octa Core, 3.2\\u2009GHz Processor',\n",
       "       'Dimensity  810 5G, Octa Core, 2.4\\u2009GHz Processor',\n",
       "       'Helio G35, Octa Core, 2.3\\u2009GHz Processor',\n",
       "       'Dimensity  920 5G, Octa Core, 2.5\\u2009GHz Processor',\n",
       "       'Snapdragon  4 Gen 1, Octa Core, 2\\u2009GHz Processor',\n",
       "       'Dimensity 700 , Octa Core, 2.2\\u2009GHz Processor',\n",
       "       'Tiger  T310, Quad Core, 2\\u2009GHz Processor',\n",
       "       'Snapdragon 6 Gen 1, Octa Core, 2.2\\u2009GHz Processor',\n",
       "       'Exynos 1280, Octa Core Processor',\n",
       "       'Helio  G25, Octa Core, 2\\u2009GHz Processor',\n",
       "       'Helio  G99, Octa Core, 2.2\\u2009GHz Processor',\n",
       "       'Dimensity 700, Octa Core, 2.2\\u2009GHz Processor',\n",
       "       'Snapdragon 778G+, Octa Core, 2.5\\u2009GHz Processor',\n",
       "       'Snapdragon 8 Gen1, Octa Core, 3\\u2009GHz Processor',\n",
       "       'Snapdragon 888+, Octa Core, 2.9\\u2009GHz Processor',\n",
       "       'Dimensity 800U , Octa Core, 2.4\\u2009GHz Processor',\n",
       "       'Dimensity 9000, Octa Core, 3.05\\u2009GHz Processor',\n",
       "       'Bionic A14, Hexa Core, 3.1\\u2009GHz Processor',\n",
       "       'Dimensity  8100, Octa Core, 2.85\\u2009GHz Processor',\n",
       "       'Exynos 1280, Octa Core, 2.4\\u2009GHz Processor',\n",
       "       'Helio A22, Quad Core, 2\\u2009GHz Processor',\n",
       "       'Snapdragon  778G, Octa Core, 2.4\\u2009GHz Processor',\n",
       "       'Octa Core Processor', 'Google  Tensor, Octa Core Processor',\n",
       "       'Snapdragon 720G, Octa Core, 2.3\\u2009GHz Processor',\n",
       "       'Tiger T700, Octa Core, 1.8\\u2009GHz Processor',\n",
       "       'Tiger  T616, Octa Core, 1.8\\u2009GHz Processor',\n",
       "       'Snapdragon  695 , Octa Core, 2.2\\u2009GHz Processor',\n",
       "       'Quad Core, 1.4\\u2009GHz Processor',\n",
       "       'Snapdragon 460 , Octa Core, 1.8\\u2009GHz Processor',\n",
       "       'Exynos 1200, Octa Core, 2.4\\u2009GHz Processor', 'Bionic  A16',\n",
       "       'Snapdragon QM215, Quad Core, 1.3\\u2009GHz Processor',\n",
       "       'Tiger T612, Octa Core, 1.82\\u2009GHz Processor',\n",
       "       ' Snapdragon 695, Octa Core, 2.2\\u2009GHz Processor',\n",
       "       'Dimensity 9200, Octa Core, 3.05\\u2009GHz Processor',\n",
       "       'Exynos 850, Octa Core, 2\\u2009GHz Processor',\n",
       "       'Snapdragon  888 , Octa Core, 2.84\\u2009GHz Processor',\n",
       "       'Dimensity 810, Octa Core, 2.4\\u2009GHz Processor',\n",
       "       'Tiger T310, Quad Core, 2\\u2009GHz Processor',\n",
       "       'Snapdragon  480 , Octa Core, 2\\u2009GHz Processor',\n",
       "       'Helio G96, Octa Core, 2\\u2009GHz Processor',\n",
       "       'Dimensity  700 5G, Octa Core, 2.2\\u2009GHz Processor',\n",
       "       'Helio G96, Octa Core, 2.05\\u2009GHz Processor',\n",
       "       'Dimensity 920 5G, Octa Core, 2.5\\u2009GHz Processor',\n",
       "       'Dimensity  8200, Octa Core, 3.1\\u2009GHz Processor',\n",
       "       'Quad Core, 1.6\\u2009GHz Processor',\n",
       "       'Tiger T7150, Quad Core, 1.8\\u2009GHz Processor',\n",
       "       'Helio  P22 , Octa Core, 2\\u2009GHz Processor',\n",
       "       'Helio  G85, Octa Core, 2\\u2009GHz Processor',\n",
       "       'Snapdragon 888, Octa Core, 2.84\\u2009GHz Processor',\n",
       "       'Dimensity 8100-Max, Octa Core, 2.85\\u2009GHz Processor',\n",
       "       'Octa Core, 2\\u2009GHz Processor',\n",
       "       'Exynos 1380, Octa Core Processor',\n",
       "       'Google  Tensor G2, Octa Core, 2.85\\u2009GHz Processor',\n",
       "       'Helio G88, Octa Core, 2\\u2009GHz Processor',\n",
       "       'Dimensity 1200, Octa Core, 3\\u2009GHz Processor',\n",
       "       'Helio, Octa Core Processor',\n",
       "       'Snapdragon  8+ Gen1 , Octa Core, 3.2\\u2009GHz Processor',\n",
       "       'Snapdragon 778G+, Octa Core Processor',\n",
       "       'Google Tensor G2, Octa Core, 2.85\\u2009GHz Processor',\n",
       "       'Dimensity 930, Octa Core, 2.2\\u2009GHz Processor',\n",
       "       'Exynos  2300, Octa Core Processor',\n",
       "       'Dimensity 900, Octa Core, 2.4\\u2009GHz Processor', 'Apple  A13',\n",
       "       'Dimensity  1200 Max, Octa Core, 3\\u2009GHz Processor',\n",
       "       'Snapdragon 712, Octa Core, 2.3\\u2009GHz Processor',\n",
       "       'Helio G80, Octa Core, 2\\u2009GHz Processor',\n",
       "       'Snapdragon 205 , Dual Core, 1.1\\u2009GHz Processor',\n",
       "       'Google  Tensor, Octa Core, 2.8\\u2009GHz Processor',\n",
       "       'Helio G85, Octa Core, 2\\u2009GHz Processor', 'Bionic A16',\n",
       "       'Exynos  850, Octa Core, 2\\u2009GHz Processor',\n",
       "       'SC9863A, Octa Core, 1.6\\u2009GHz Processor',\n",
       "       'Snapdragon  480+, Octa Core, 2.2\\u2009GHz Processor',\n",
       "       'Snapdragon  778G , Octa Core, 2.4\\u2009GHz Processor',\n",
       "       'Dimensity 900, Octa Core, 2\\u2009GHz Processor',\n",
       "       'Quad Core, 1.3\\u2009GHz Processor',\n",
       "       'Dimensity  900, Octa Core, 2.4\\u2009GHz Processor',\n",
       "       'Helio G37, Octa Core, 2.3\\u2009GHz Processor',\n",
       "       'Google Tensor, Octa Core, 2.8\\u2009GHz Processor',\n",
       "       'Snapdragon 732G , Octa Core, 2.3\\u2009GHz Processor',\n",
       "       'Snapdragon  870, Octa Core, 3.2\\u2009GHz Processor',\n",
       "       'Unisoc  SC9836A, Quad Core, 1.6\\u2009GHz Processor',\n",
       "       'Snapdragon  732G, Octa Core, 2.3\\u2009GHz Processor',\n",
       "       'Helio  G96, Octa Core, 2.05\\u2009GHz Processor',\n",
       "       'Helio  G37, Octa Core, 2.3\\u2009GHz Processor',\n",
       "       'Helio G25, Octa Core, 2\\u2009GHz Processor',\n",
       "       'Qualcomm 215, Quad Core, 1.3\\u2009GHz Processor',\n",
       "       'Helio P22, Octa Core, 2\\u2009GHz Processor',\n",
       "       'Unisoc SC9863A, Octa Core, 1.6\\u2009GHz Processor',\n",
       "       'Snapdragon  888+, Octa Core, 2.9\\u2009GHz Processor',\n",
       "       'Snapdragon 8+ Gen 2, Octa Core Processor',\n",
       "       'Snapdragon 765G , Octa Core, 2.4\\u2009GHz Processor',\n",
       "       'Exynos 990, Octa Core, 2.73\\u2009GHz Processor',\n",
       "       'Snapdragon 855, Octa Core, 2.8\\u2009GHz Processor',\n",
       "       'Exynos 9820, Octa Core, 2.7\\u2009GHz Processor', 'No Wifi',\n",
       "       'Snapdragon 730, Octa Core, 2.2\\u2009GHz Processor',\n",
       "       'Unisoc, Octa Core Processor',\n",
       "       'Unisoc  T606, Octa Core, 2\\u2009GHz Processor',\n",
       "       'Snapdragon 662 , Octa Core, 2\\u2009GHz Processor',\n",
       "       'Helio G95, Octa Core, 2\\u2009GHz Processor',\n",
       "       'Spreadtrum  SC7731E, Quad Core, 1.3\\u2009GHz Processor',\n",
       "       'Dual Core, 1\\u2009GHz Processor',\n",
       "       'Bionic  A17, Octa Core Processor',\n",
       "       'Snapdragon  810, Octa Core, 2.4\\u2009GHz Processor',\n",
       "       'Unisoc  T606, Octa Core, 1.6\\u2009GHz Processor',\n",
       "       'Snapdragon  778G Plus, Octa Core, 2.5\\u2009GHz Processor',\n",
       "       'Snapdragon 775',\n",
       "       'Snapdragon 678, Octa Core, 2.2\\u2009GHz Processor',\n",
       "       'Snapdragon 801, Octa Core, 1.5\\u2009GHz Processor',\n",
       "       'Bionic  A15, Hexa Core, 3.22\\u2009GHz Processor',\n",
       "       'Snapdragon  720G, Octa Core, 2.3\\u2009GHz Processor',\n",
       "       'Snapdragon 860, Octa Core, 2.96\\u2009GHz Processor',\n",
       "       'Dimensity  9000, Octa Core, 3.05\\u2009GHz Processor',\n",
       "       'Helio  P35, Octa Core, 2.3\\u2009GHz Processor',\n",
       "       'Helio G85 , Octa Core, 2\\u2009GHz Processor',\n",
       "       'Snapdragon 855+, Octa Core, 2.96\\u2009GHz Processor',\n",
       "       'Unisoc T606, Octa Core, 1.6\\u2009GHz Processor',\n",
       "       'Tiger T610, Octa Core, 1.82\\u2009GHz Processor',\n",
       "       'Unisoc  SC9863A, Octa Core, 1.6\\u2009GHz Processor',\n",
       "       'Helio  G95, Octa Core, 2.05\\u2009GHz Processor',\n",
       "       'Snapdragon 845, Octa Core, 2.8\\u2009GHz Processor',\n",
       "       'Helio MT6580, Quad Core, 1.3\\u2009GHz Processor',\n",
       "       'Snapdragon 615, Octa Core, 1.5\\u2009GHz Processor',\n",
       "       'Tiger T606, Octa Core, 2\\u2009GHz Processor',\n",
       "       'Unisoc  SC9832E, Quad Core, 1.4\\u2009GHz Processor',\n",
       "       'Snapdragon  210, Quad Core, 1.1\\u2009GHz Processor',\n",
       "       'Snapdragon 865 , Octa Core, 2.84\\u2009GHz Processor',\n",
       "       'Sanpdragon 680, Octa Core, 2.4\\u2009GHz Processor',\n",
       "       'Helio G37, Octa Core, 1.8\\u2009GHz Processor',\n",
       "       'Dimensity 8100, Octa Core, 2.85\\u2009GHz Processor',\n",
       "       'Snapdragon 835, Octa Core, 2.35\\u2009GHz Processor',\n",
       "       'Helio P35 , Octa Core, 2.3\\u2009GHz Processor',\n",
       "       'Snapdragon  680 , Octa Core, 2.4\\u2009GHz Processor',\n",
       "       'Snapdragon 888+ , Octa Core, 2.9\\u2009GHz Processor',\n",
       "       'Snapdragon  720G , Octa Core, 2.3\\u2009GHz Processor',\n",
       "       '1\\u2009GHz Processor',\n",
       "       'Tiger T616, Octa Core, 2\\u2009GHz Processor', 'No 3G',\n",
       "       'Exynos  990, Octa Core, 2.73\\u2009GHz Processor',\n",
       "       'Snapdragon  765G , Octa Core, 2.4\\u2009GHz Processor',\n",
       "       'Snapdragon 425, Quad Core, 1.4\\u2009GHz Processor',\n",
       "       'Snapdragon MSM8909, Quad Core, 1.1\\u2009GHz Processor',\n",
       "       'Snapdragon 720G , Octa Core, 2.3\\u2009GHz Processor',\n",
       "       'Snapdragon 690, Octa Core, 2\\u2009GHz Processor',\n",
       "       'Fusion APL1024, Quad Core, 2.37\\u2009GHz Processor',\n",
       "       '1\\u2009GB RAM, 4\\u2009GB inbuilt',\n",
       "       'Unisoc T610, Octa Core, 1.8\\u2009GHz Processor', 'Unisoc T117',\n",
       "       'Snapdragon  865 , Octa Core, 2.84\\u2009GHz Processor',\n",
       "       'Snapdragon 732G, Octa Core, 2.3\\u2009GHz Processor',\n",
       "       '4\\u2009MB RAM, 4\\u2009MB inbuilt', '1450\\u2009mAh Battery',\n",
       "       'Kirin  9000, Octa Core, 3.13\\u2009GHz Processor',\n",
       "       'Unisoc  T610, Octa Core, 1.8\\u2009GHz Processor',\n",
       "       '32\\u2009MB RAM, 32\\u2009MB inbuilt',\n",
       "       'Tiger T610, Quad Core, 1.8\\u2009GHz Processor',\n",
       "       'Dimensity  9200, Octa Core Processor',\n",
       "       'Dimensity 700, Octa Core, 2\\u2009GHz Processor',\n",
       "       'Snapdragon  6 Gen 1, Octa Core, 2.2\\u2009GHz Processor',\n",
       "       'Unisoc  SC9863a, Octa Core, 1.6\\u2009GHz Processor',\n",
       "       'Tiger  T610, Octa Core, 1.8\\u2009GHz Processor',\n",
       "       'Dimensity 1100 5G, Octa Core, 2.6\\u2009GHz Processor',\n",
       "       'Snapdragon  765G, Octa Core, 2.4\\u2009GHz Processor',\n",
       "       'Snapdragon 730G, Octa Core, 2.2\\u2009GHz Processor',\n",
       "       'Snapdragon  865, Octa Core, 2.84\\u2009GHz Processor',\n",
       "       'Exynos 9810, Octa Core, 2.7\\u2009GHz Processor',\n",
       "       'Exynos 9825, Octa Core, 2.7\\u2009GHz Processor', 'Helio MT6260A',\n",
       "       'Exynos 7904, Octa Core, 1.8\\u2009GHz Processor',\n",
       "       '800\\u2009mAh Battery',\n",
       "       'Snapdragon  888, Octa Core, 2.84\\u2009GHz Processor',\n",
       "       'Exynos 9611, Octa Core, 2.3\\u2009GHz Processor',\n",
       "       'Helio P95, Octa Core, 2.2\\u2009GHz Processor',\n",
       "       'Helio P60, Octa Core, 1.99\\u2009GHz Processor',\n",
       "       'Snapdragon  750G , Octa Core, 2.2\\u2009GHz Processor',\n",
       "       'Exynos  9611 , Octa Core, 2.3\\u2009GHz Processor',\n",
       "       'Exynos 9825, Octa Core, 2.73\\u2009GHz Processor',\n",
       "       'Snapdragon  665, Octa Core, 2\\u2009GHz Processor',\n",
       "       'Snapdragon  782G, Octa Core, 2.7\\u2009GHz Processor',\n",
       "       'Dimensity 8100 Ultra, Octa Core, 2.85\\u2009GHz Processor',\n",
       "       'Kirin 9000E, Octa Core, 3.13\\u2009GHz Processor',\n",
       "       'Helio A25, Octa Core, 1.8\\u2009GHz Processor',\n",
       "       'Spreadtrum  SC7731, Quad Core, 1.3\\u2009GHz Processor',\n",
       "       'Snapdragon 662, Octa Core, 2\\u2009GHz Processor',\n",
       "       'Unisoc SC7731E, Quad Core, 1.3\\u2009GHz Processor',\n",
       "       'Snapdragon  712 , Octa Core, 2.3\\u2009GHz Processor',\n",
       "       '2000\\u2009mAh Battery',\n",
       "       'Snapdragon  675, Octa Core, 2\\u2009GHz Processor',\n",
       "       'Snapdragon  730G, Octa Core, 2.2\\u2009GHz Processor',\n",
       "       'Helio  P22, Octa Core, 2\\u2009GHz Processor',\n",
       "       '32\\u2009GB inbuilt', '52\\u2009MB RAM, 32\\u2009MB inbuilt',\n",
       "       'Dimensity 9200, Octa Core Processor',\n",
       "       'Snapdragon 8 Gen1 , Octa Core, 3\\u2009GHz Processor',\n",
       "       'Google Tensor 3, Octa Core Processor',\n",
       "       'Octa Core, 2.2\\u2009GHz Processor',\n",
       "       'Snapdragon  439 , Octa Core, 2\\u2009GHz Processor',\n",
       "       'Tiger T610, Octa Core, 1.8\\u2009GHz Processor',\n",
       "       'Snapdragon  662 , Octa Core, 2\\u2009GHz Processor',\n",
       "       'Exynos 2100, Octa Core, 2.9\\u2009GHz Processor',\n",
       "       'Kirin 990, Octa Core, 2.86\\u2009GHz Processor',\n",
       "       'Snapdragon 439, Octa Core, 2\\u2009GHz Processor',\n",
       "       'Snapdragon 675, Octa Core, 2\\u2009GHz Processor',\n",
       "       'Snapdragon 439, Octa Core, 1.95\\u2009GHz Processor',\n",
       "       'Helio P60, Octa Core, 2\\u2009GHz Processor',\n",
       "       'Exynos 9810, Octa Core, 2.8\\u2009GHz Processor',\n",
       "       'Exynos 1330, Octa Core Processor',\n",
       "       'Snapdragon  778G+, Octa Core Processor',\n",
       "       '1.77\\u2009MHz Processor',\n",
       "       'Snapdragon 680 , Octa Core, 2.4\\u2009GHz Processor',\n",
       "       'SC6531E, 26\\u2009MHz Processor',\n",
       "       'Helio   G90T , Octa Core, 2.05\\u2009GHz Processor',\n",
       "       '(28 nm), Quad Core, 1.5\\u2009GHz Processor',\n",
       "       '1\\u2009GB RAM, 8\\u2009GB inbuilt',\n",
       "       'Kirin  810, Octa Core, 2.2\\u2009GHz Processor',\n",
       "       'Helio  P65 , Octa Core, 2\\u2009GHz Processor',\n",
       "       'Helio P70, Octa Core, 2\\u2009GHz Processor',\n",
       "       'Qualcomm Snapdragon 670, Octa Core, 2\\u2009GHz Processor',\n",
       "       'Samsung Exynos 7885, Octa Core, 2.2\\u2009GHz Processor',\n",
       "       'Kirin 659, Octa Core, 2.36\\u2009GHz Processor',\n",
       "       'Qualcomm Snapdragon 625, Octa Core, 2\\u2009GHz Processor',\n",
       "       'Single Core, 1\\u2009GHz Processor',\n",
       "       'Snapdragon  7 Gen2, Octa Core Processor',\n",
       "       'Snapdragon  7 Gen1, Octa Core, 2.4\\u2009GHz Processor',\n",
       "       'Helio  G88, Octa Core, 2\\u2009GHz Processor',\n",
       "       'Snapdragon  690 , Octa Core, 2\\u2009GHz Processor',\n",
       "       'Spreadtrum  SC9832E , Quad Core, 1.4\\u2009GHz Processor',\n",
       "       'Dimensity 1000+, Octa Core, 2.6\\u2009GHz Processor',\n",
       "       'Snapdragon 665, Octa Core, 2\\u2009GHz Processor',\n",
       "       'Snapdragon 460, Octa Core, 1.8\\u2009GHz Processor',\n",
       "       'Helio P35, Octa Core, 1.8\\u2009GHz Processor',\n",
       "       'Snapdragon  855, Octa Core, 2.8\\u2009GHz Processor',\n",
       "       'Helio  G90T, Octa Core, 2.05\\u2009GHz Processor',\n",
       "       'Helio P70, Octa Core, 2.1\\u2009GHz Processor',\n",
       "       'Helio P23, Octa Core, 2.5\\u2009GHz Processor',\n",
       "       '256\\u2009MB RAM, 512\\u2009MB inbuilt',\n",
       "       'Snapdragon MSM8939, Octa Core, 1.5\\u2009GHz Processor',\n",
       "       'Bionic A16, Hexa Core Processor',\n",
       "       '48\\u2009MB RAM, 128\\u2009MB inbuilt',\n",
       "       'Snapdragon 870 , Octa Core, 3.2\\u2009GHz Processor',\n",
       "       'Snapdragon 7 Gen1, Octa Core, 2.4\\u2009GHz Processor',\n",
       "       'Snapdragon 765G, Octa Core, 2.4\\u2009GHz Processor',\n",
       "       'Unisoc  A55, Octa Core, 1.6\\u2009GHz Processor',\n",
       "       'Snapdragon 450, Octa Core, 1.8\\u2009GHz Processor',\n",
       "       '8\\u2009MB RAM, 16\\u2009MB inbuilt',\n",
       "       'Kirin  990, Octa Core, 2.86\\u2009GHz Processor',\n",
       "       'Octa Core, 1.8\\u2009GHz Processor',\n",
       "       'Snapdragon 710, Octa Core, 2.2\\u2009GHz Processor',\n",
       "       'Exynos 7885, Octa Core, 2.2\\u2009GHz Processor',\n",
       "       'Snapdragon 425, Quad Core, 1.2\\u2009GHz Processor',\n",
       "       'Spreadtrum  SC9832E, Quad Core, 1.4\\u2009GHz Processor',\n",
       "       'Google  Tensor 3, Octa Core Processor'], dtype=object)"
      ]
     },
     "execution_count": 56,
     "metadata": {},
     "output_type": "execute_result"
    }
   ],
   "source": [
    "# modify the processor column like make a processor brand \n",
    "df['processor'].unique()"
   ]
  },
  {
   "cell_type": "code",
   "execution_count": 64,
   "id": "67fd6ed0",
   "metadata": {},
   "outputs": [
    {
     "name": "stdout",
     "output_type": "stream",
     "text": [
      "processor_brand\n",
      "Snapdragon             413\n",
      "Helio                  202\n",
      "Dimensity              177\n",
      "Exynos                  50\n",
      "Bionic                  44\n",
      "Generic (Core Only)     34\n",
      "Unisoc                  28\n",
      "Tiger                   24\n",
      "Other                   19\n",
      "Unknown                 13\n",
      "Google Tensor            9\n",
      "Kirin                    7\n",
      "Name: count, dtype: int64\n"
     ]
    }
   ],
   "source": [
    "def extract_processor_brand(proc):\n",
    "    if pd.isna(proc) or 'No' in str(proc) or proc.strip() == '':\n",
    "        return 'Unknown'\n",
    "\n",
    "    proc = proc.lower()\n",
    "\n",
    "    if 'snapdragon' in proc: return 'Snapdragon'\n",
    "    elif 'dimensity' in proc: return 'Dimensity'\n",
    "    elif 'exynos' in proc: return 'Exynos'\n",
    "    elif 'bionic' in proc: return 'Bionic'\n",
    "    elif 'helio' in proc: return 'Helio'\n",
    "    elif 'tiger' in proc: return 'Tiger'\n",
    "    elif 'unisoc' in proc: return 'Unisoc'\n",
    "    elif 'tensor' in proc: return 'Google Tensor'\n",
    "    elif 'kirin' in proc: return 'Kirin'\n",
    "    elif 'mt' in proc: return 'MediaTek'\n",
    "    elif 'core' in proc: return 'Generic (Core Only)'\n",
    "    else: return 'Other'\n",
    "\n",
    "\n",
    "df['processor_brand'] = df['processor'].apply(extract_processor_brand)\n",
    "\n",
    "# Optional: See results\n",
    "print(df['processor_brand'].value_counts())\n"
   ]
  },
  {
   "cell_type": "markdown",
   "id": "626cabc0",
   "metadata": {},
   "source": [
    "#### RAM Column "
   ]
  },
  {
   "cell_type": "code",
   "execution_count": 66,
   "id": "a21087ba",
   "metadata": {},
   "outputs": [
    {
     "name": "stderr",
     "output_type": "stream",
     "text": [
      "<>:2: SyntaxWarning: invalid escape sequence '\\d'\n",
      "<>:2: SyntaxWarning: invalid escape sequence '\\d'\n",
      "C:\\Users\\dell\\AppData\\Local\\Temp\\ipykernel_9184\\3502417178.py:2: SyntaxWarning: invalid escape sequence '\\d'\n",
      "  df['ram'] = df['ram'].str.extract('(\\d+)').astype(float)\n"
     ]
    }
   ],
   "source": [
    "# clan ram column -> \n",
    "df['ram'] = df['ram'].str.extract('(\\d+)').astype(float)\n"
   ]
  },
  {
   "cell_type": "code",
   "execution_count": 67,
   "id": "1b9d20b6",
   "metadata": {},
   "outputs": [],
   "source": [
    "# drop missing ram \n",
    "df = df.dropna(subset=['ram'])"
   ]
  },
  {
   "cell_type": "code",
   "execution_count": 68,
   "id": "5e0cc3db",
   "metadata": {},
   "outputs": [
    {
     "name": "stdout",
     "output_type": "stream",
     "text": [
      "0    12.0\n",
      "1     6.0\n",
      "2     4.0\n",
      "3     6.0\n",
      "4     6.0\n",
      "Name: ram, dtype: float64\n"
     ]
    }
   ],
   "source": [
    "print(df['ram'].head())"
   ]
  },
  {
   "cell_type": "markdown",
   "id": "da02f850",
   "metadata": {},
   "source": [
    "#### Clean battery column"
   ]
  },
  {
   "cell_type": "code",
   "execution_count": null,
   "id": "70f85962",
   "metadata": {},
   "outputs": [],
   "source": [
    "# Extract the number battery value and convert it into float \n",
    "df['battery'] = df['battery'].str.extract('(\\d+)').astype(float)\n",
    "# ses a regex to extract the numeric part from strings like '5000 mAh' → '5000'"
   ]
  },
  {
   "cell_type": "code",
   "execution_count": 73,
   "id": "717bcb65",
   "metadata": {},
   "outputs": [],
   "source": [
    "# Row rows with missing battery values\n",
    "df = df.dropna(subset=['battery'])"
   ]
  },
  {
   "cell_type": "code",
   "execution_count": 75,
   "id": "b6d046d0",
   "metadata": {},
   "outputs": [],
   "source": [
    "# remove those with lowest and highest outliers\n",
    "q1, q3 = df['battery'].quantile([0.25, 0.75])\n",
    "# compute first and 3rd quartile"
   ]
  },
  {
   "cell_type": "code",
   "execution_count": 78,
   "id": "2dea80a0",
   "metadata": {},
   "outputs": [
    {
     "data": {
      "text/plain": [
       "500.0"
      ]
     },
     "execution_count": 78,
     "metadata": {},
     "output_type": "execute_result"
    }
   ],
   "source": [
    "iqr = q3 - q1\n",
    "iqr"
   ]
  },
  {
   "cell_type": "code",
   "execution_count": 79,
   "id": "ea7c7300",
   "metadata": {},
   "outputs": [],
   "source": [
    "# filter out outliers using the IQR rulle \n",
    "df = df[(df['battery'] >= q1 - 1.5 * iqr) & (df['battery'] <= q3 + 1.5 * iqr)]\n"
   ]
  },
  {
   "cell_type": "code",
   "execution_count": 80,
   "id": "8cf8449e",
   "metadata": {},
   "outputs": [
    {
     "name": "stdout",
     "output_type": "stream",
     "text": [
      "count     840.000000\n",
      "mean     4789.847619\n",
      "std       329.467806\n",
      "min      3900.000000\n",
      "25%      4500.000000\n",
      "50%      5000.000000\n",
      "75%      5000.000000\n",
      "max      5600.000000\n",
      "Name: battery, dtype: float64\n"
     ]
    }
   ],
   "source": [
    "print(df['battery'].describe())\n"
   ]
  },
  {
   "cell_type": "markdown",
   "id": "b5ffbbc8",
   "metadata": {},
   "source": [
    "#### DISPLAY "
   ]
  },
  {
   "cell_type": "code",
   "execution_count": 91,
   "id": "98e46f5b",
   "metadata": {},
   "outputs": [],
   "source": [
    "# clean display size"
   ]
  },
  {
   "cell_type": "code",
   "execution_count": 92,
   "id": "68e444c5",
   "metadata": {},
   "outputs": [
    {
     "name": "stdout",
     "output_type": "stream",
     "text": [
      "0    6.70\n",
      "1    6.59\n",
      "2    6.60\n",
      "3    6.55\n",
      "4    6.70\n",
      "Name: display_size, dtype: float64\n"
     ]
    },
    {
     "name": "stderr",
     "output_type": "stream",
     "text": [
      "<>:1: SyntaxWarning: invalid escape sequence '\\d'\n",
      "<>:1: SyntaxWarning: invalid escape sequence '\\d'\n",
      "C:\\Users\\dell\\AppData\\Local\\Temp\\ipykernel_9184\\4158808025.py:1: SyntaxWarning: invalid escape sequence '\\d'\n",
      "  df['display_size'] = df['display'].str.extract('(\\d+\\.\\d+)').astype(float)\n"
     ]
    }
   ],
   "source": [
    "df['display_size'] = df['display'].str.extract('(\\d+\\.\\d+)').astype(float)\n",
    "df = df.dropna(subset=['display_size'])\n",
    "print(df['display_size'].head())"
   ]
  },
  {
   "cell_type": "markdown",
   "id": "939967c6",
   "metadata": {},
   "source": [
    "#### CAMERA"
   ]
  },
  {
   "cell_type": "code",
   "execution_count": 100,
   "id": "c33deaec",
   "metadata": {},
   "outputs": [
    {
     "name": "stdout",
     "output_type": "stream",
     "text": [
      "   rear_camera_1_mp  rear_camera_2_mp  rear_camera_3_mp  front_camera_mp\n",
      "0              50.0              48.0              32.0             16.0\n",
      "1              64.0               2.0               2.0             16.0\n",
      "2              50.0               2.0               2.0             13.0\n",
      "3              50.0               8.0               2.0             16.0\n",
      "4             108.0               8.0               2.0             16.0\n"
     ]
    }
   ],
   "source": [
    "# clean camers( Extract rear and front MP)\n",
    "df['rear_cameras'] = df['camera'].str.extract(r'(\\d+\\s*MP\\s*\\+\\s*\\d+\\s*MP\\s*\\+\\s*\\d+\\s*MP\\s*Triple Rear)')\n",
    "df['rear_camera_1_mp'] = df['camera'].str.extract(r'(\\d+)\\s*MP\\s*\\+').astype(float)\n",
    "df['rear_camera_2_mp'] = df['camera'].str.extract(r'\\+\\s*(\\d+)\\s*MP\\s*\\+').astype(float)\n",
    "df['rear_camera_3_mp'] = df['camera'].str.extract(r'\\+\\s*(\\d+)\\s*MP\\s*Triple Rear').astype(float)\n",
    "df['front_camera_mp'] = df['camera'].str.extract(r'(\\d+)\\s*MP\\s*Front').astype(float)\n",
    "print(df[['rear_camera_1_mp', 'rear_camera_2_mp', 'rear_camera_3_mp','front_camera_mp']].head())"
   ]
  },
  {
   "cell_type": "code",
   "execution_count": 96,
   "id": "6f24da1a",
   "metadata": {},
   "outputs": [],
   "source": [
    "# extract from "
   ]
  },
  {
   "cell_type": "code",
   "execution_count": 97,
   "id": "53023d93",
   "metadata": {},
   "outputs": [
    {
     "name": "stdout",
     "output_type": "stream",
     "text": [
      "0    16.0\n",
      "1    16.0\n",
      "2    13.0\n",
      "3    16.0\n",
      "4    16.0\n",
      "Name: front_camera_mp, dtype: float64\n"
     ]
    }
   ],
   "source": [
    "df['front_camera_mp'] = df['camera'].str.extract(r'(\\d+)\\s*MP\\s*Front').astype(float)\n",
    "print(df['front_camera_mp'].head())"
   ]
  },
  {
   "cell_type": "markdown",
   "id": "ce6bf847",
   "metadata": {},
   "source": [
    "#### CLEAN CARD COLUMN"
   ]
  },
  {
   "cell_type": "code",
   "execution_count": 101,
   "id": "05f73619",
   "metadata": {},
   "outputs": [
    {
     "name": "stdout",
     "output_type": "stream",
     "text": [
      "   memory_card_supported memory_card_capacity\n",
      "0                   True                  NaN\n",
      "1                   True                 1 TB\n",
      "2                   True                 1 TB\n",
      "3                   True                 1 TB\n",
      "4                   True                  NaN\n"
     ]
    },
    {
     "name": "stderr",
     "output_type": "stream",
     "text": [
      "<>:2: SyntaxWarning: invalid escape sequence '\\d'\n",
      "<>:2: SyntaxWarning: invalid escape sequence '\\d'\n",
      "C:\\Users\\dell\\AppData\\Local\\Temp\\ipykernel_9184\\2750645750.py:2: SyntaxWarning: invalid escape sequence '\\d'\n",
      "  df['memory_card_capacity'] = df['card'].str.extract('upto (\\d+\\s*\\wB)', expand=False)\n"
     ]
    }
   ],
   "source": [
    "df['memory_card_supported'] = df['card'].str.contains('Memory Card', case=False, na=False)\n",
    "df['memory_card_capacity'] = df['card'].str.extract('upto (\\d+\\s*\\wB)', expand=False)\n",
    "print(df[['memory_card_supported', 'memory_card_capacity']].head())"
   ]
  },
  {
   "cell_type": "code",
   "execution_count": 102,
   "id": "7e10c41c",
   "metadata": {},
   "outputs": [],
   "source": [
    "### Clean os column"
   ]
  },
  {
   "cell_type": "code",
   "execution_count": 103,
   "id": "557d1af8",
   "metadata": {},
   "outputs": [
    {
     "name": "stdout",
     "output_type": "stream",
     "text": [
      "os\n",
      "Android    596\n",
      "Other      206\n",
      "iOS         13\n",
      "Name: count, dtype: int64\n"
     ]
    }
   ],
   "source": [
    "df['os'] = df['os'].apply(lambda x: 'iOS' if 'iOS' in str(x) else 'Android' if 'Android' in str(x) else 'Other')\n",
    "print(df['os'].value_counts())"
   ]
  },
  {
   "cell_type": "code",
   "execution_count": 104,
   "id": "512bd4dd",
   "metadata": {},
   "outputs": [
    {
     "name": "stdout",
     "output_type": "stream",
     "text": [
      "(815, 24)\n"
     ]
    }
   ],
   "source": [
    "print(df.shape)"
   ]
  },
  {
   "cell_type": "code",
   "execution_count": 105,
   "id": "ee5a35d9",
   "metadata": {},
   "outputs": [
    {
     "name": "stdout",
     "output_type": "stream",
     "text": [
      "count       815.000000\n",
      "mean      28909.520245\n",
      "std       31197.830409\n",
      "min        3499.000000\n",
      "25%       12999.000000\n",
      "50%       19990.000000\n",
      "75%       31999.000000\n",
      "max      480000.000000\n",
      "Name: price, dtype: float64\n"
     ]
    }
   ],
   "source": [
    "print(df['price'].describe())"
   ]
  },
  {
   "cell_type": "markdown",
   "id": "0563b477",
   "metadata": {},
   "source": [
    "#### Insights and Statistics"
   ]
  },
  {
   "cell_type": "code",
   "execution_count": 107,
   "id": "907ffd66",
   "metadata": {},
   "outputs": [
    {
     "name": "stdout",
     "output_type": "stream",
     "text": [
      "price_range\n",
      "10K-20K    315\n",
      "20K-30K    163\n",
      "<10K       120\n",
      "30K-50K    113\n",
      ">50K       104\n",
      "Name: count, dtype: int64\n"
     ]
    }
   ],
   "source": [
    "# price range column\n",
    "bins = [0,10000,20000,30000,50000,np.inf]\n",
    "labels = ['<10K', '10K-20K', '20K-30K', '30K-50K', '>50K']\n",
    "df['price_range'] = pd.cut(df['price'], bins=bins, labels=labels)\n",
    "print(df['price_range'].value_counts())"
   ]
  },
  {
   "cell_type": "code",
   "execution_count": 110,
   "id": "a94f0cc7",
   "metadata": {},
   "outputs": [
    {
     "name": "stdout",
     "output_type": "stream",
     "text": [
      "                                      model  price\n",
      "1                 OnePlus Nord CE 2 Lite 5G  19989\n",
      "2                     Samsung Galaxy A14 5G  16499\n",
      "3                      Motorola Moto G62 5G  14999\n",
      "5   Samsung Galaxy F23 5G (6GB RAM + 128GB)  16999\n",
      "10                            Realme 10 Pro  18999\n"
     ]
    }
   ],
   "source": [
    "# filter budget phones\n",
    "budget_phones = df[df['price'] < 20000]\n",
    "print(budget_phones[['model', 'price']].head())"
   ]
  },
  {
   "cell_type": "code",
   "execution_count": 112,
   "id": "8612f718",
   "metadata": {},
   "outputs": [
    {
     "name": "stdout",
     "output_type": "stream",
     "text": [
      "                           model  rating\n",
      "0                  OnePlus 11 5G    89.0\n",
      "1      OnePlus Nord CE 2 Lite 5G    81.0\n",
      "3           Motorola Moto G62 5G    81.0\n",
      "4             Realme 10 Pro Plus    82.0\n",
      "7  Xiaomi Redmi Note 12 Pro Plus    86.0\n"
     ]
    }
   ],
   "source": [
    "# filter high-rated phones\n",
    "high_rated = df[df['rating']>80]\n",
    "print(high_rated[['model','rating']].head())"
   ]
  },
  {
   "cell_type": "code",
   "execution_count": 113,
   "id": "e1c40627",
   "metadata": {},
   "outputs": [
    {
     "name": "stdout",
     "output_type": "stream",
     "text": [
      "                                      model   price\n",
      "921  Xiaomi Redmi K20 Pro Signature Edition  480000\n",
      "483        Huawei Mate 50 RS Porsche Design  239999\n",
      "990        Huawei Mate 30 RS Porsche Design  214990\n",
      "462                     Xiaomi Mi Mix Alpha  199990\n",
      "290           Apple iPhone 14 Pro Max (1TB)  182999\n"
     ]
    }
   ],
   "source": [
    "# top 5 expensive phones\n",
    "print(df.nlargest(5, 'price')[['model','price']])"
   ]
  },
  {
   "cell_type": "code",
   "execution_count": null,
   "id": "e41358f0",
   "metadata": {},
   "outputs": [],
   "source": []
  }
 ],
 "metadata": {
  "kernelspec": {
   "display_name": "Python 3",
   "language": "python",
   "name": "python3"
  },
  "language_info": {
   "codemirror_mode": {
    "name": "ipython",
    "version": 3
   },
   "file_extension": ".py",
   "mimetype": "text/x-python",
   "name": "python",
   "nbconvert_exporter": "python",
   "pygments_lexer": "ipython3",
   "version": "3.13.3"
  }
 },
 "nbformat": 4,
 "nbformat_minor": 5
}
